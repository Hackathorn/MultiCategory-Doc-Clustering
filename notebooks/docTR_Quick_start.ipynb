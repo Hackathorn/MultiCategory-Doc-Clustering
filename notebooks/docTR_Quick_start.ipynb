{
  "nbformat": 4,
  "nbformat_minor": 0,
  "metadata": {
    "colab": {
      "name": "docTR - Quick start.ipynb",
      "provenance": []
    },
    "kernelspec": {
      "name": "python3",
      "display_name": "Python 3"
    },
    "language_info": {
      "name": "python"
    },
    "widgets": {
      "application/vnd.jupyter.widget-state+json": {
        "853d540efdb64483b090f7208786a60f": {
          "model_module": "@jupyter-widgets/controls",
          "model_name": "HBoxModel",
          "model_module_version": "1.5.0",
          "state": {
            "_view_name": "HBoxView",
            "_dom_classes": [],
            "_model_name": "HBoxModel",
            "_view_module": "@jupyter-widgets/controls",
            "_model_module_version": "1.5.0",
            "_view_count": null,
            "_view_module_version": "1.5.0",
            "box_style": "",
            "layout": "IPY_MODEL_47f6efd53b2f4373ba1ee2fd2b625407",
            "_model_module": "@jupyter-widgets/controls",
            "children": [
              "IPY_MODEL_b246851e58964994b068e7a69c753eab",
              "IPY_MODEL_12c6398f0f994a6a8234d74bffbe3adf",
              "IPY_MODEL_0c8ccb5e9ce24f979cfeb0bf3568e1d1"
            ]
          }
        },
        "47f6efd53b2f4373ba1ee2fd2b625407": {
          "model_module": "@jupyter-widgets/base",
          "model_name": "LayoutModel",
          "model_module_version": "1.2.0",
          "state": {
            "_view_name": "LayoutView",
            "grid_template_rows": null,
            "right": null,
            "justify_content": null,
            "_view_module": "@jupyter-widgets/base",
            "overflow": null,
            "_model_module_version": "1.2.0",
            "_view_count": null,
            "flex_flow": null,
            "width": null,
            "min_width": null,
            "border": null,
            "align_items": null,
            "bottom": null,
            "_model_module": "@jupyter-widgets/base",
            "top": null,
            "grid_column": null,
            "overflow_y": null,
            "overflow_x": null,
            "grid_auto_flow": null,
            "grid_area": null,
            "grid_template_columns": null,
            "flex": null,
            "_model_name": "LayoutModel",
            "justify_items": null,
            "grid_row": null,
            "max_height": null,
            "align_content": null,
            "visibility": null,
            "align_self": null,
            "height": null,
            "min_height": null,
            "padding": null,
            "grid_auto_rows": null,
            "grid_gap": null,
            "max_width": null,
            "order": null,
            "_view_module_version": "1.2.0",
            "grid_template_areas": null,
            "object_position": null,
            "object_fit": null,
            "grid_auto_columns": null,
            "margin": null,
            "display": null,
            "left": null
          }
        },
        "b246851e58964994b068e7a69c753eab": {
          "model_module": "@jupyter-widgets/controls",
          "model_name": "HTMLModel",
          "model_module_version": "1.5.0",
          "state": {
            "_view_name": "HTMLView",
            "style": "IPY_MODEL_48273d650e164958ad2309eee9eafbac",
            "_dom_classes": [],
            "description": "",
            "_model_name": "HTMLModel",
            "placeholder": "​",
            "_view_module": "@jupyter-widgets/controls",
            "_model_module_version": "1.5.0",
            "value": "",
            "_view_count": null,
            "_view_module_version": "1.5.0",
            "description_tooltip": null,
            "_model_module": "@jupyter-widgets/controls",
            "layout": "IPY_MODEL_badeefe02d7c4735963f60a26d53403a"
          }
        },
        "12c6398f0f994a6a8234d74bffbe3adf": {
          "model_module": "@jupyter-widgets/controls",
          "model_name": "FloatProgressModel",
          "model_module_version": "1.5.0",
          "state": {
            "_view_name": "ProgressView",
            "style": "IPY_MODEL_8b3aefd84fb545a1bacd1b58a7b87d06",
            "_dom_classes": [],
            "description": "",
            "_model_name": "FloatProgressModel",
            "bar_style": "success",
            "max": 101971449,
            "_view_module": "@jupyter-widgets/controls",
            "_model_module_version": "1.5.0",
            "value": 101971449,
            "_view_count": null,
            "_view_module_version": "1.5.0",
            "orientation": "horizontal",
            "min": 0,
            "description_tooltip": null,
            "_model_module": "@jupyter-widgets/controls",
            "layout": "IPY_MODEL_255d40d50e00452f8be94872551926d3"
          }
        },
        "0c8ccb5e9ce24f979cfeb0bf3568e1d1": {
          "model_module": "@jupyter-widgets/controls",
          "model_name": "HTMLModel",
          "model_module_version": "1.5.0",
          "state": {
            "_view_name": "HTMLView",
            "style": "IPY_MODEL_808b2f2294434286859c45ee2ebc8329",
            "_dom_classes": [],
            "description": "",
            "_model_name": "HTMLModel",
            "placeholder": "​",
            "_view_module": "@jupyter-widgets/controls",
            "_model_module_version": "1.5.0",
            "value": " 101971968/? [00:02&lt;00:00, 50674930.01it/s]",
            "_view_count": null,
            "_view_module_version": "1.5.0",
            "description_tooltip": null,
            "_model_module": "@jupyter-widgets/controls",
            "layout": "IPY_MODEL_71f57cf815c944eda27ad2de5915c38d"
          }
        },
        "48273d650e164958ad2309eee9eafbac": {
          "model_module": "@jupyter-widgets/controls",
          "model_name": "DescriptionStyleModel",
          "model_module_version": "1.5.0",
          "state": {
            "_view_name": "StyleView",
            "_model_name": "DescriptionStyleModel",
            "description_width": "",
            "_view_module": "@jupyter-widgets/base",
            "_model_module_version": "1.5.0",
            "_view_count": null,
            "_view_module_version": "1.2.0",
            "_model_module": "@jupyter-widgets/controls"
          }
        },
        "badeefe02d7c4735963f60a26d53403a": {
          "model_module": "@jupyter-widgets/base",
          "model_name": "LayoutModel",
          "model_module_version": "1.2.0",
          "state": {
            "_view_name": "LayoutView",
            "grid_template_rows": null,
            "right": null,
            "justify_content": null,
            "_view_module": "@jupyter-widgets/base",
            "overflow": null,
            "_model_module_version": "1.2.0",
            "_view_count": null,
            "flex_flow": null,
            "width": null,
            "min_width": null,
            "border": null,
            "align_items": null,
            "bottom": null,
            "_model_module": "@jupyter-widgets/base",
            "top": null,
            "grid_column": null,
            "overflow_y": null,
            "overflow_x": null,
            "grid_auto_flow": null,
            "grid_area": null,
            "grid_template_columns": null,
            "flex": null,
            "_model_name": "LayoutModel",
            "justify_items": null,
            "grid_row": null,
            "max_height": null,
            "align_content": null,
            "visibility": null,
            "align_self": null,
            "height": null,
            "min_height": null,
            "padding": null,
            "grid_auto_rows": null,
            "grid_gap": null,
            "max_width": null,
            "order": null,
            "_view_module_version": "1.2.0",
            "grid_template_areas": null,
            "object_position": null,
            "object_fit": null,
            "grid_auto_columns": null,
            "margin": null,
            "display": null,
            "left": null
          }
        },
        "8b3aefd84fb545a1bacd1b58a7b87d06": {
          "model_module": "@jupyter-widgets/controls",
          "model_name": "ProgressStyleModel",
          "model_module_version": "1.5.0",
          "state": {
            "_view_name": "StyleView",
            "_model_name": "ProgressStyleModel",
            "description_width": "",
            "_view_module": "@jupyter-widgets/base",
            "_model_module_version": "1.5.0",
            "_view_count": null,
            "_view_module_version": "1.2.0",
            "bar_color": null,
            "_model_module": "@jupyter-widgets/controls"
          }
        },
        "255d40d50e00452f8be94872551926d3": {
          "model_module": "@jupyter-widgets/base",
          "model_name": "LayoutModel",
          "model_module_version": "1.2.0",
          "state": {
            "_view_name": "LayoutView",
            "grid_template_rows": null,
            "right": null,
            "justify_content": null,
            "_view_module": "@jupyter-widgets/base",
            "overflow": null,
            "_model_module_version": "1.2.0",
            "_view_count": null,
            "flex_flow": null,
            "width": null,
            "min_width": null,
            "border": null,
            "align_items": null,
            "bottom": null,
            "_model_module": "@jupyter-widgets/base",
            "top": null,
            "grid_column": null,
            "overflow_y": null,
            "overflow_x": null,
            "grid_auto_flow": null,
            "grid_area": null,
            "grid_template_columns": null,
            "flex": null,
            "_model_name": "LayoutModel",
            "justify_items": null,
            "grid_row": null,
            "max_height": null,
            "align_content": null,
            "visibility": null,
            "align_self": null,
            "height": null,
            "min_height": null,
            "padding": null,
            "grid_auto_rows": null,
            "grid_gap": null,
            "max_width": null,
            "order": null,
            "_view_module_version": "1.2.0",
            "grid_template_areas": null,
            "object_position": null,
            "object_fit": null,
            "grid_auto_columns": null,
            "margin": null,
            "display": null,
            "left": null
          }
        },
        "808b2f2294434286859c45ee2ebc8329": {
          "model_module": "@jupyter-widgets/controls",
          "model_name": "DescriptionStyleModel",
          "model_module_version": "1.5.0",
          "state": {
            "_view_name": "StyleView",
            "_model_name": "DescriptionStyleModel",
            "description_width": "",
            "_view_module": "@jupyter-widgets/base",
            "_model_module_version": "1.5.0",
            "_view_count": null,
            "_view_module_version": "1.2.0",
            "_model_module": "@jupyter-widgets/controls"
          }
        },
        "71f57cf815c944eda27ad2de5915c38d": {
          "model_module": "@jupyter-widgets/base",
          "model_name": "LayoutModel",
          "model_module_version": "1.2.0",
          "state": {
            "_view_name": "LayoutView",
            "grid_template_rows": null,
            "right": null,
            "justify_content": null,
            "_view_module": "@jupyter-widgets/base",
            "overflow": null,
            "_model_module_version": "1.2.0",
            "_view_count": null,
            "flex_flow": null,
            "width": null,
            "min_width": null,
            "border": null,
            "align_items": null,
            "bottom": null,
            "_model_module": "@jupyter-widgets/base",
            "top": null,
            "grid_column": null,
            "overflow_y": null,
            "overflow_x": null,
            "grid_auto_flow": null,
            "grid_area": null,
            "grid_template_columns": null,
            "flex": null,
            "_model_name": "LayoutModel",
            "justify_items": null,
            "grid_row": null,
            "max_height": null,
            "align_content": null,
            "visibility": null,
            "align_self": null,
            "height": null,
            "min_height": null,
            "padding": null,
            "grid_auto_rows": null,
            "grid_gap": null,
            "max_width": null,
            "order": null,
            "_view_module_version": "1.2.0",
            "grid_template_areas": null,
            "object_position": null,
            "object_fit": null,
            "grid_auto_columns": null,
            "margin": null,
            "display": null,
            "left": null
          }
        },
        "9909eded3357434195a3a7a94a0c2e7d": {
          "model_module": "@jupyter-widgets/controls",
          "model_name": "HBoxModel",
          "model_module_version": "1.5.0",
          "state": {
            "_view_name": "HBoxView",
            "_dom_classes": [],
            "_model_name": "HBoxModel",
            "_view_module": "@jupyter-widgets/controls",
            "_model_module_version": "1.5.0",
            "_view_count": null,
            "_view_module_version": "1.5.0",
            "box_style": "",
            "layout": "IPY_MODEL_de13fcd0c7214d7aa250269623ef28ed",
            "_model_module": "@jupyter-widgets/controls",
            "children": [
              "IPY_MODEL_6419270b9b1441eaba2ca28208a5f4f4",
              "IPY_MODEL_6c7aca05daf042148d1a327847a3f009",
              "IPY_MODEL_8653936bdf624200982025e4c5e12bde"
            ]
          }
        },
        "de13fcd0c7214d7aa250269623ef28ed": {
          "model_module": "@jupyter-widgets/base",
          "model_name": "LayoutModel",
          "model_module_version": "1.2.0",
          "state": {
            "_view_name": "LayoutView",
            "grid_template_rows": null,
            "right": null,
            "justify_content": null,
            "_view_module": "@jupyter-widgets/base",
            "overflow": null,
            "_model_module_version": "1.2.0",
            "_view_count": null,
            "flex_flow": null,
            "width": null,
            "min_width": null,
            "border": null,
            "align_items": null,
            "bottom": null,
            "_model_module": "@jupyter-widgets/base",
            "top": null,
            "grid_column": null,
            "overflow_y": null,
            "overflow_x": null,
            "grid_auto_flow": null,
            "grid_area": null,
            "grid_template_columns": null,
            "flex": null,
            "_model_name": "LayoutModel",
            "justify_items": null,
            "grid_row": null,
            "max_height": null,
            "align_content": null,
            "visibility": null,
            "align_self": null,
            "height": null,
            "min_height": null,
            "padding": null,
            "grid_auto_rows": null,
            "grid_gap": null,
            "max_width": null,
            "order": null,
            "_view_module_version": "1.2.0",
            "grid_template_areas": null,
            "object_position": null,
            "object_fit": null,
            "grid_auto_columns": null,
            "margin": null,
            "display": null,
            "left": null
          }
        },
        "6419270b9b1441eaba2ca28208a5f4f4": {
          "model_module": "@jupyter-widgets/controls",
          "model_name": "HTMLModel",
          "model_module_version": "1.5.0",
          "state": {
            "_view_name": "HTMLView",
            "style": "IPY_MODEL_cad3b443db364e318f48a140f46d0828",
            "_dom_classes": [],
            "description": "",
            "_model_name": "HTMLModel",
            "placeholder": "​",
            "_view_module": "@jupyter-widgets/controls",
            "_model_module_version": "1.5.0",
            "value": "",
            "_view_count": null,
            "_view_module_version": "1.5.0",
            "description_tooltip": null,
            "_model_module": "@jupyter-widgets/controls",
            "layout": "IPY_MODEL_7f1a128cebcd41f7920f2b2fcb4f0b9b"
          }
        },
        "6c7aca05daf042148d1a327847a3f009": {
          "model_module": "@jupyter-widgets/controls",
          "model_name": "FloatProgressModel",
          "model_module_version": "1.5.0",
          "state": {
            "_view_name": "ProgressView",
            "style": "IPY_MODEL_a1ea585d5f394d9aa3668183fda69fa3",
            "_dom_classes": [],
            "description": "",
            "_model_name": "FloatProgressModel",
            "bar_style": "success",
            "max": 63286381,
            "_view_module": "@jupyter-widgets/controls",
            "_model_module_version": "1.5.0",
            "value": 63286381,
            "_view_count": null,
            "_view_module_version": "1.5.0",
            "orientation": "horizontal",
            "min": 0,
            "description_tooltip": null,
            "_model_module": "@jupyter-widgets/controls",
            "layout": "IPY_MODEL_e18fcb374f5c4fd48d3634bf4837e169"
          }
        },
        "8653936bdf624200982025e4c5e12bde": {
          "model_module": "@jupyter-widgets/controls",
          "model_name": "HTMLModel",
          "model_module_version": "1.5.0",
          "state": {
            "_view_name": "HTMLView",
            "style": "IPY_MODEL_a554b6e0f52e4f5bbeb28917d67f6518",
            "_dom_classes": [],
            "description": "",
            "_model_name": "HTMLModel",
            "placeholder": "​",
            "_view_module": "@jupyter-widgets/controls",
            "_model_module_version": "1.5.0",
            "value": " 63287296/? [00:00&lt;00:00, 61257167.14it/s]",
            "_view_count": null,
            "_view_module_version": "1.5.0",
            "description_tooltip": null,
            "_model_module": "@jupyter-widgets/controls",
            "layout": "IPY_MODEL_eea9400a14de45f583f37f5bbfa3952c"
          }
        },
        "cad3b443db364e318f48a140f46d0828": {
          "model_module": "@jupyter-widgets/controls",
          "model_name": "DescriptionStyleModel",
          "model_module_version": "1.5.0",
          "state": {
            "_view_name": "StyleView",
            "_model_name": "DescriptionStyleModel",
            "description_width": "",
            "_view_module": "@jupyter-widgets/base",
            "_model_module_version": "1.5.0",
            "_view_count": null,
            "_view_module_version": "1.2.0",
            "_model_module": "@jupyter-widgets/controls"
          }
        },
        "7f1a128cebcd41f7920f2b2fcb4f0b9b": {
          "model_module": "@jupyter-widgets/base",
          "model_name": "LayoutModel",
          "model_module_version": "1.2.0",
          "state": {
            "_view_name": "LayoutView",
            "grid_template_rows": null,
            "right": null,
            "justify_content": null,
            "_view_module": "@jupyter-widgets/base",
            "overflow": null,
            "_model_module_version": "1.2.0",
            "_view_count": null,
            "flex_flow": null,
            "width": null,
            "min_width": null,
            "border": null,
            "align_items": null,
            "bottom": null,
            "_model_module": "@jupyter-widgets/base",
            "top": null,
            "grid_column": null,
            "overflow_y": null,
            "overflow_x": null,
            "grid_auto_flow": null,
            "grid_area": null,
            "grid_template_columns": null,
            "flex": null,
            "_model_name": "LayoutModel",
            "justify_items": null,
            "grid_row": null,
            "max_height": null,
            "align_content": null,
            "visibility": null,
            "align_self": null,
            "height": null,
            "min_height": null,
            "padding": null,
            "grid_auto_rows": null,
            "grid_gap": null,
            "max_width": null,
            "order": null,
            "_view_module_version": "1.2.0",
            "grid_template_areas": null,
            "object_position": null,
            "object_fit": null,
            "grid_auto_columns": null,
            "margin": null,
            "display": null,
            "left": null
          }
        },
        "a1ea585d5f394d9aa3668183fda69fa3": {
          "model_module": "@jupyter-widgets/controls",
          "model_name": "ProgressStyleModel",
          "model_module_version": "1.5.0",
          "state": {
            "_view_name": "StyleView",
            "_model_name": "ProgressStyleModel",
            "description_width": "",
            "_view_module": "@jupyter-widgets/base",
            "_model_module_version": "1.5.0",
            "_view_count": null,
            "_view_module_version": "1.2.0",
            "bar_color": null,
            "_model_module": "@jupyter-widgets/controls"
          }
        },
        "e18fcb374f5c4fd48d3634bf4837e169": {
          "model_module": "@jupyter-widgets/base",
          "model_name": "LayoutModel",
          "model_module_version": "1.2.0",
          "state": {
            "_view_name": "LayoutView",
            "grid_template_rows": null,
            "right": null,
            "justify_content": null,
            "_view_module": "@jupyter-widgets/base",
            "overflow": null,
            "_model_module_version": "1.2.0",
            "_view_count": null,
            "flex_flow": null,
            "width": null,
            "min_width": null,
            "border": null,
            "align_items": null,
            "bottom": null,
            "_model_module": "@jupyter-widgets/base",
            "top": null,
            "grid_column": null,
            "overflow_y": null,
            "overflow_x": null,
            "grid_auto_flow": null,
            "grid_area": null,
            "grid_template_columns": null,
            "flex": null,
            "_model_name": "LayoutModel",
            "justify_items": null,
            "grid_row": null,
            "max_height": null,
            "align_content": null,
            "visibility": null,
            "align_self": null,
            "height": null,
            "min_height": null,
            "padding": null,
            "grid_auto_rows": null,
            "grid_gap": null,
            "max_width": null,
            "order": null,
            "_view_module_version": "1.2.0",
            "grid_template_areas": null,
            "object_position": null,
            "object_fit": null,
            "grid_auto_columns": null,
            "margin": null,
            "display": null,
            "left": null
          }
        },
        "a554b6e0f52e4f5bbeb28917d67f6518": {
          "model_module": "@jupyter-widgets/controls",
          "model_name": "DescriptionStyleModel",
          "model_module_version": "1.5.0",
          "state": {
            "_view_name": "StyleView",
            "_model_name": "DescriptionStyleModel",
            "description_width": "",
            "_view_module": "@jupyter-widgets/base",
            "_model_module_version": "1.5.0",
            "_view_count": null,
            "_view_module_version": "1.2.0",
            "_model_module": "@jupyter-widgets/controls"
          }
        },
        "eea9400a14de45f583f37f5bbfa3952c": {
          "model_module": "@jupyter-widgets/base",
          "model_name": "LayoutModel",
          "model_module_version": "1.2.0",
          "state": {
            "_view_name": "LayoutView",
            "grid_template_rows": null,
            "right": null,
            "justify_content": null,
            "_view_module": "@jupyter-widgets/base",
            "overflow": null,
            "_model_module_version": "1.2.0",
            "_view_count": null,
            "flex_flow": null,
            "width": null,
            "min_width": null,
            "border": null,
            "align_items": null,
            "bottom": null,
            "_model_module": "@jupyter-widgets/base",
            "top": null,
            "grid_column": null,
            "overflow_y": null,
            "overflow_x": null,
            "grid_auto_flow": null,
            "grid_area": null,
            "grid_template_columns": null,
            "flex": null,
            "_model_name": "LayoutModel",
            "justify_items": null,
            "grid_row": null,
            "max_height": null,
            "align_content": null,
            "visibility": null,
            "align_self": null,
            "height": null,
            "min_height": null,
            "padding": null,
            "grid_auto_rows": null,
            "grid_gap": null,
            "max_width": null,
            "order": null,
            "_view_module_version": "1.2.0",
            "grid_template_areas": null,
            "object_position": null,
            "object_fit": null,
            "grid_auto_columns": null,
            "margin": null,
            "display": null,
            "left": null
          }
        }
      }
    }
  },
  "cells": [
    {
      "cell_type": "markdown",
      "metadata": {
        "id": "OOb64_drQ8HZ"
      },
      "source": [
        "Looking for some examples on how to use docTR for OCR-related tasks? You've come to the right place 😀\n",
        "\n",
        "References: \n",
        "- [docTR notebooks](https://mindee.github.io/doctr/notebooks.html) ...this is the Quick Start\n",
        "- [docTR github](https://github.com/mindee/doctr)"
      ]
    },
    {
      "cell_type": "markdown",
      "metadata": {
        "id": "0eiwDT8qIh4X"
      },
      "source": [
        "# Installation\n",
        "\n",
        "Install all the dependencies to make the most out of docTR. The project provides two main [installation](https://mindee.github.io/doctr/latest/installing.html) streams: one for stable release (update once every 45 days on average), and developer mode."
      ]
    },
    {
      "cell_type": "markdown",
      "metadata": {
        "id": "Bh8uHvOVIvFW"
      },
      "source": [
        "## Latest stable release\n",
        "\n",
        "This will install the last stable release that was published by our teams on pypi. It is expected to provide a clean and non-buggy experience for all users."
      ]
    },
    {
      "cell_type": "code",
      "metadata": {
        "id": "43tpfKq1IxQg",
        "outputId": "5d3ee32c-9b38-4aa6-af0c-237766e0943a",
        "colab": {
          "base_uri": "https://localhost:8080/",
          "height": 1000
        }
      },
      "source": [
        "# TensorFlow\n",
        "# !pip install python-doctr[tf]\n",
        "# PyTorch\n",
        "!pip install python-doctr[torch]"
      ],
      "execution_count": 1,
      "outputs": [
        {
          "output_type": "stream",
          "name": "stdout",
          "text": [
            "Looking in indexes: https://pypi.org/simple, https://us-python.pkg.dev/colab-wheels/public/simple/\n",
            "Collecting python-doctr[torch]\n",
            "  Downloading python_doctr-0.6.0-py3-none-any.whl (239 kB)\n",
            "\u001b[2K     \u001b[90m━━━━━━━━━━━━━━━━━━━━━━━━━━━━━━━━━━━━━━━\u001b[0m \u001b[32m239.3/239.3 KB\u001b[0m \u001b[31m3.9 MB/s\u001b[0m eta \u001b[36m0:00:00\u001b[0m\n",
            "\u001b[?25hCollecting huggingface-hub>=0.4.0\n",
            "  Downloading huggingface_hub-0.11.1-py3-none-any.whl (182 kB)\n",
            "\u001b[2K     \u001b[90m━━━━━━━━━━━━━━━━━━━━━━━━━━━━━━━━━━━━━━\u001b[0m \u001b[32m182.4/182.4 KB\u001b[0m \u001b[31m11.5 MB/s\u001b[0m eta \u001b[36m0:00:00\u001b[0m\n",
            "\u001b[?25hCollecting rapidfuzz>=1.6.0\n",
            "  Downloading rapidfuzz-2.13.7-cp38-cp38-manylinux_2_17_x86_64.manylinux2014_x86_64.whl (2.2 MB)\n",
            "\u001b[2K     \u001b[90m━━━━━━━━━━━━━━━━━━━━━━━━━━━━━━━━━━━━━━━━\u001b[0m \u001b[32m2.2/2.2 MB\u001b[0m \u001b[31m32.8 MB/s\u001b[0m eta \u001b[36m0:00:00\u001b[0m\n",
            "\u001b[?25hCollecting weasyprint>=55.0\n",
            "  Downloading weasyprint-57.2-py3-none-any.whl (262 kB)\n",
            "\u001b[2K     \u001b[90m━━━━━━━━━━━━━━━━━━━━━━━━━━━━━━━━━━━━━━\u001b[0m \u001b[32m262.3/262.3 KB\u001b[0m \u001b[31m19.8 MB/s\u001b[0m eta \u001b[36m0:00:00\u001b[0m\n",
            "\u001b[?25hRequirement already satisfied: importlib-metadata in /usr/local/lib/python3.8/dist-packages (from python-doctr[torch]) (5.2.0)\n",
            "Requirement already satisfied: scipy<2.0.0,>=1.4.0 in /usr/local/lib/python3.8/dist-packages (from python-doctr[torch]) (1.7.3)\n",
            "Collecting shapely<2.0.0,>=1.6.0\n",
            "  Downloading Shapely-1.8.5.post1-cp38-cp38-manylinux_2_12_x86_64.manylinux2010_x86_64.whl (2.1 MB)\n",
            "\u001b[2K     \u001b[90m━━━━━━━━━━━━━━━━━━━━━━━━━━━━━━━━━━━━━━━━\u001b[0m \u001b[32m2.1/2.1 MB\u001b[0m \u001b[31m47.3 MB/s\u001b[0m eta \u001b[36m0:00:00\u001b[0m\n",
            "\u001b[?25hRequirement already satisfied: matplotlib>=3.1.0 in /usr/local/lib/python3.8/dist-packages (from python-doctr[torch]) (3.2.2)\n",
            "Collecting unidecode>=1.0.0\n",
            "  Downloading Unidecode-1.3.6-py3-none-any.whl (235 kB)\n",
            "\u001b[2K     \u001b[90m━━━━━━━━━━━━━━━━━━━━━━━━━━━━━━━━━━━━━━\u001b[0m \u001b[32m235.9/235.9 KB\u001b[0m \u001b[31m17.1 MB/s\u001b[0m eta \u001b[36m0:00:00\u001b[0m\n",
            "\u001b[?25hCollecting pypdfium2<4.0.0,>=3.0.0\n",
            "  Downloading pypdfium2-3.16.0-py3-none-manylinux_2_17_x86_64.manylinux2014_x86_64.whl (2.8 MB)\n",
            "\u001b[2K     \u001b[90m━━━━━━━━━━━━━━━━━━━━━━━━━━━━━━━━━━━━━━━━\u001b[0m \u001b[32m2.8/2.8 MB\u001b[0m \u001b[31m52.0 MB/s\u001b[0m eta \u001b[36m0:00:00\u001b[0m\n",
            "\u001b[?25hCollecting Pillow>=8.3.2\n",
            "  Downloading Pillow-9.4.0-cp38-cp38-manylinux_2_17_x86_64.manylinux2014_x86_64.whl (3.3 MB)\n",
            "\u001b[2K     \u001b[90m━━━━━━━━━━━━━━━━━━━━━━━━━━━━━━━━━━━━━━━━\u001b[0m \u001b[32m3.3/3.3 MB\u001b[0m \u001b[31m51.5 MB/s\u001b[0m eta \u001b[36m0:00:00\u001b[0m\n",
            "\u001b[?25hRequirement already satisfied: defusedxml>=0.7.0 in /usr/local/lib/python3.8/dist-packages (from python-doctr[torch]) (0.7.1)\n",
            "Collecting mplcursors>=0.3\n",
            "  Downloading mplcursors-0.5.2.tar.gz (89 kB)\n",
            "\u001b[2K     \u001b[90m━━━━━━━━━━━━━━━━━━━━━━━━━━━━━━━━━━━━━━━━\u001b[0m \u001b[32m89.0/89.0 KB\u001b[0m \u001b[31m8.9 MB/s\u001b[0m eta \u001b[36m0:00:00\u001b[0m\n",
            "\u001b[?25h  Preparing metadata (setup.py) ... \u001b[?25l\u001b[?25hdone\n",
            "Requirement already satisfied: opencv-python<5.0.0,>=4.5.0 in /usr/local/lib/python3.8/dist-packages (from python-doctr[torch]) (4.6.0.66)\n",
            "Collecting pyclipper<2.0.0,>=1.2.0\n",
            "  Downloading pyclipper-1.3.0.post4-cp38-cp38-manylinux_2_5_x86_64.manylinux1_x86_64.whl (619 kB)\n",
            "\u001b[2K     \u001b[90m━━━━━━━━━━━━━━━━━━━━━━━━━━━━━━━━━━━━━━\u001b[0m \u001b[32m619.2/619.2 KB\u001b[0m \u001b[31m42.8 MB/s\u001b[0m eta \u001b[36m0:00:00\u001b[0m\n",
            "\u001b[?25hRequirement already satisfied: h5py<4.0.0,>=3.1.0 in /usr/local/lib/python3.8/dist-packages (from python-doctr[torch]) (3.1.0)\n",
            "Collecting langdetect<2.0.0,>=1.0.9\n",
            "  Downloading langdetect-1.0.9.tar.gz (981 kB)\n",
            "\u001b[2K     \u001b[90m━━━━━━━━━━━━━━━━━━━━━━━━━━━━━━━━━━━━━━\u001b[0m \u001b[32m981.5/981.5 KB\u001b[0m \u001b[31m51.2 MB/s\u001b[0m eta \u001b[36m0:00:00\u001b[0m\n",
            "\u001b[?25h  Preparing metadata (setup.py) ... \u001b[?25l\u001b[?25hdone\n",
            "Requirement already satisfied: numpy<2.0.0,>=1.16.0 in /usr/local/lib/python3.8/dist-packages (from python-doctr[torch]) (1.21.6)\n",
            "Requirement already satisfied: tqdm>=4.30.0 in /usr/local/lib/python3.8/dist-packages (from python-doctr[torch]) (4.64.1)\n",
            "Requirement already satisfied: torch>=1.8.0 in /usr/local/lib/python3.8/dist-packages (from python-doctr[torch]) (1.13.0+cu116)\n",
            "Requirement already satisfied: torchvision>=0.9.0 in /usr/local/lib/python3.8/dist-packages (from python-doctr[torch]) (0.14.0+cu116)\n",
            "Requirement already satisfied: filelock in /usr/local/lib/python3.8/dist-packages (from huggingface-hub>=0.4.0->python-doctr[torch]) (3.8.2)\n",
            "Requirement already satisfied: typing-extensions>=3.7.4.3 in /usr/local/lib/python3.8/dist-packages (from huggingface-hub>=0.4.0->python-doctr[torch]) (4.4.0)\n",
            "Requirement already satisfied: requests in /usr/local/lib/python3.8/dist-packages (from huggingface-hub>=0.4.0->python-doctr[torch]) (2.25.1)\n",
            "Requirement already satisfied: packaging>=20.9 in /usr/local/lib/python3.8/dist-packages (from huggingface-hub>=0.4.0->python-doctr[torch]) (21.3)\n",
            "Requirement already satisfied: pyyaml>=5.1 in /usr/local/lib/python3.8/dist-packages (from huggingface-hub>=0.4.0->python-doctr[torch]) (6.0)\n",
            "Requirement already satisfied: six in /usr/local/lib/python3.8/dist-packages (from langdetect<2.0.0,>=1.0.9->python-doctr[torch]) (1.15.0)\n",
            "Requirement already satisfied: cycler>=0.10 in /usr/local/lib/python3.8/dist-packages (from matplotlib>=3.1.0->python-doctr[torch]) (0.11.0)\n",
            "Requirement already satisfied: pyparsing!=2.0.4,!=2.1.2,!=2.1.6,>=2.0.1 in /usr/local/lib/python3.8/dist-packages (from matplotlib>=3.1.0->python-doctr[torch]) (3.0.9)\n",
            "Requirement already satisfied: kiwisolver>=1.0.1 in /usr/local/lib/python3.8/dist-packages (from matplotlib>=3.1.0->python-doctr[torch]) (1.4.4)\n",
            "Requirement already satisfied: python-dateutil>=2.1 in /usr/local/lib/python3.8/dist-packages (from matplotlib>=3.1.0->python-doctr[torch]) (2.8.2)\n",
            "Requirement already satisfied: cffi>=0.6 in /usr/local/lib/python3.8/dist-packages (from weasyprint>=55.0->python-doctr[torch]) (1.15.1)\n",
            "Collecting tinycss2>=1.0.0\n",
            "  Downloading tinycss2-1.2.1-py3-none-any.whl (21 kB)\n",
            "Collecting fonttools[woff]>=4.0.0\n",
            "  Downloading fonttools-4.38.0-py3-none-any.whl (965 kB)\n",
            "\u001b[2K     \u001b[90m━━━━━━━━━━━━━━━━━━━━━━━━━━━━━━━━━━━━━━\u001b[0m \u001b[32m965.4/965.4 KB\u001b[0m \u001b[31m47.7 MB/s\u001b[0m eta \u001b[36m0:00:00\u001b[0m\n",
            "\u001b[?25hCollecting pydyf>=0.5.0\n",
            "  Downloading pydyf-0.5.0-py3-none-any.whl (6.8 kB)\n",
            "Collecting html5lib>=1.1\n",
            "  Downloading html5lib-1.1-py2.py3-none-any.whl (112 kB)\n",
            "\u001b[2K     \u001b[90m━━━━━━━━━━━━━━━━━━━━━━━━━━━━━━━━━━━━━━\u001b[0m \u001b[32m112.2/112.2 KB\u001b[0m \u001b[31m11.8 MB/s\u001b[0m eta \u001b[36m0:00:00\u001b[0m\n",
            "\u001b[?25hCollecting cssselect2>=0.1\n",
            "  Downloading cssselect2-0.7.0-py3-none-any.whl (15 kB)\n",
            "Collecting Pyphen>=0.9.1\n",
            "  Downloading pyphen-0.13.2-py3-none-any.whl (2.0 MB)\n",
            "\u001b[2K     \u001b[90m━━━━━━━━━━━━━━━━━━━━━━━━━━━━━━━━━━━━━━━━\u001b[0m \u001b[32m2.0/2.0 MB\u001b[0m \u001b[31m68.9 MB/s\u001b[0m eta \u001b[36m0:00:00\u001b[0m\n",
            "\u001b[?25hRequirement already satisfied: zipp>=0.5 in /usr/local/lib/python3.8/dist-packages (from importlib-metadata->python-doctr[torch]) (3.11.0)\n",
            "Requirement already satisfied: pycparser in /usr/local/lib/python3.8/dist-packages (from cffi>=0.6->weasyprint>=55.0->python-doctr[torch]) (2.21)\n",
            "Requirement already satisfied: webencodings in /usr/local/lib/python3.8/dist-packages (from cssselect2>=0.1->weasyprint>=55.0->python-doctr[torch]) (0.5.1)\n",
            "Collecting zopfli>=0.1.4\n",
            "  Downloading zopfli-0.2.2-cp38-cp38-manylinux_2_5_x86_64.manylinux1_x86_64.whl (704 kB)\n",
            "\u001b[2K     \u001b[90m━━━━━━━━━━━━━━━━━━━━━━━━━━━━━━━━━━━━━━\u001b[0m \u001b[32m704.3/704.3 KB\u001b[0m \u001b[31m42.1 MB/s\u001b[0m eta \u001b[36m0:00:00\u001b[0m\n",
            "\u001b[?25hCollecting brotli>=1.0.1\n",
            "  Downloading Brotli-1.0.9-cp38-cp38-manylinux1_x86_64.whl (357 kB)\n",
            "\u001b[2K     \u001b[90m━━━━━━━━━━━━━━━━━━━━━━━━━━━━━━━━━━━━━━\u001b[0m \u001b[32m357.2/357.2 KB\u001b[0m \u001b[31m30.0 MB/s\u001b[0m eta \u001b[36m0:00:00\u001b[0m\n",
            "\u001b[?25hRequirement already satisfied: certifi>=2017.4.17 in /usr/local/lib/python3.8/dist-packages (from requests->huggingface-hub>=0.4.0->python-doctr[torch]) (2022.12.7)\n",
            "Requirement already satisfied: idna<3,>=2.5 in /usr/local/lib/python3.8/dist-packages (from requests->huggingface-hub>=0.4.0->python-doctr[torch]) (2.10)\n",
            "Requirement already satisfied: chardet<5,>=3.0.2 in /usr/local/lib/python3.8/dist-packages (from requests->huggingface-hub>=0.4.0->python-doctr[torch]) (4.0.0)\n",
            "Requirement already satisfied: urllib3<1.27,>=1.21.1 in /usr/local/lib/python3.8/dist-packages (from requests->huggingface-hub>=0.4.0->python-doctr[torch]) (1.24.3)\n",
            "Building wheels for collected packages: langdetect, mplcursors\n",
            "  Building wheel for langdetect (setup.py) ... \u001b[?25l\u001b[?25hdone\n",
            "  Created wheel for langdetect: filename=langdetect-1.0.9-py3-none-any.whl size=993242 sha256=5f17adcb213e31c62610248ee335753d06aaca18180f6283c846aa16300bf32c\n",
            "  Stored in directory: /root/.cache/pip/wheels/13/c7/b0/79f66658626032e78fc1a83103690ef6797d551cb22e56e734\n",
            "  Building wheel for mplcursors (setup.py) ... \u001b[?25l\u001b[?25hdone\n",
            "  Created wheel for mplcursors: filename=mplcursors-0.5.2-py3-none-any.whl size=21069 sha256=d5884f545365687fb3e5240a8d6761fd281dacf7cc0806a63e42f8d210341f20\n",
            "  Stored in directory: /root/.cache/pip/wheels/6d/02/b1/7d5c397daf88f75d3432168edddd8b02d3ae2c050ffa7ca26f\n",
            "Successfully built langdetect mplcursors\n",
            "Installing collected packages: pyclipper, brotli, zopfli, unidecode, tinycss2, shapely, rapidfuzz, Pyphen, pypdfium2, pydyf, Pillow, langdetect, html5lib, fonttools, huggingface-hub, cssselect2, weasyprint, mplcursors, python-doctr\n",
            "  Attempting uninstall: shapely\n",
            "    Found existing installation: shapely 2.0.0\n",
            "    Uninstalling shapely-2.0.0:\n",
            "      Successfully uninstalled shapely-2.0.0\n",
            "  Attempting uninstall: Pillow\n",
            "    Found existing installation: Pillow 7.1.2\n",
            "    Uninstalling Pillow-7.1.2:\n",
            "      Successfully uninstalled Pillow-7.1.2\n",
            "  Attempting uninstall: html5lib\n",
            "    Found existing installation: html5lib 1.0.1\n",
            "    Uninstalling html5lib-1.0.1:\n",
            "      Successfully uninstalled html5lib-1.0.1\n",
            "Successfully installed Pillow-9.4.0 Pyphen-0.13.2 brotli-1.0.9 cssselect2-0.7.0 fonttools-4.38.0 html5lib-1.1 huggingface-hub-0.11.1 langdetect-1.0.9 mplcursors-0.5.2 pyclipper-1.3.0.post4 pydyf-0.5.0 pypdfium2-3.16.0 python-doctr-0.6.0 rapidfuzz-2.13.7 shapely-1.8.5.post1 tinycss2-1.2.1 unidecode-1.3.6 weasyprint-57.2 zopfli-0.2.2\n"
          ]
        },
        {
          "output_type": "display_data",
          "data": {
            "application/vnd.colab-display-data+json": {
              "pip_warning": {
                "packages": [
                  "PIL"
                ]
              }
            }
          },
          "metadata": {}
        }
      ]
    },
    {
      "cell_type": "markdown",
      "metadata": {
        "id": "zUbhZiRiIxbN"
      },
      "source": [
        "## From source\n",
        "\n",
        "Before being staged for a stable release, we constantly iterate on the community feedback to improve the library. Bug fixes and performance improvements are regularly pushed to the project Git repository. Using this installation method, you will access all the latest features that have not yet made their way to a pypi release!"
      ]
    },
    {
      "cell_type": "code",
      "metadata": {
        "id": "AJZgLM_CIzKf",
        "colab": {
          "base_uri": "https://localhost:8080/",
          "height": 1000
        },
        "outputId": "c4a89d66-258a-4897-89b9-3e8989044f6c"
      },
      "source": [
        "# Install the most up-to-date version from GitHub\n",
        "# TensorFlow\n",
        "# !pip install -e git+https://github.com/mindee/doctr.git#egg=python-doctr[tf]\n",
        "# PyTorch\n",
        "!pip install -e git+https://github.com/mindee/doctr.git#egg=python-doctr[torch]"
      ],
      "execution_count": null,
      "outputs": [
        {
          "output_type": "stream",
          "name": "stdout",
          "text": [
            "Obtaining python-doctr[torch] from git+https://github.com/mindee/doctr.git#egg=python-doctr[torch]\n",
            "  Cloning https://github.com/mindee/doctr.git to ./src/python-doctr\n",
            "  Running command git clone -q https://github.com/mindee/doctr.git /content/src/python-doctr\n",
            "Requirement already satisfied: numpy>=1.16.0 in /usr/local/lib/python3.7/dist-packages (from python-doctr[torch]) (1.19.5)\n",
            "Requirement already satisfied: scipy>=1.4.0 in /usr/local/lib/python3.7/dist-packages (from python-doctr[torch]) (1.4.1)\n",
            "Requirement already satisfied: opencv-python>=3.4.5.20 in /usr/local/lib/python3.7/dist-packages (from python-doctr[torch]) (4.1.2.30)\n",
            "Collecting PyMuPDF<1.18.11,>=1.16.0\n",
            "  Downloading PyMuPDF-1.18.10-cp37-cp37m-manylinux2010_x86_64.whl (6.4 MB)\n",
            "\u001b[K     |████████████████████████████████| 6.4 MB 4.3 MB/s \n",
            "\u001b[?25hCollecting pyclipper>=1.2.0\n",
            "  Downloading pyclipper-1.3.0-cp37-cp37m-manylinux_2_5_x86_64.manylinux1_x86_64.whl (123 kB)\n",
            "\u001b[K     |████████████████████████████████| 123 kB 65.4 MB/s \n",
            "\u001b[?25hRequirement already satisfied: shapely>=1.6.0 in /usr/local/lib/python3.7/dist-packages (from python-doctr[torch]) (1.8.0)\n",
            "Requirement already satisfied: matplotlib<3.4.3,>=3.1.0 in /usr/local/lib/python3.7/dist-packages (from python-doctr[torch]) (3.2.2)\n",
            "Collecting mplcursors>=0.3\n",
            "  Downloading mplcursors-0.5.tar.gz (88 kB)\n",
            "\u001b[K     |████████████████████████████████| 88 kB 6.8 MB/s \n",
            "\u001b[?25hCollecting weasyprint<53.0,>=52.2\n",
            "  Downloading WeasyPrint-52.5-py3-none-any.whl (365 kB)\n",
            "\u001b[K     |████████████████████████████████| 365 kB 42.8 MB/s \n",
            "\u001b[?25hCollecting unidecode>=1.0.0\n",
            "  Downloading Unidecode-1.3.2-py3-none-any.whl (235 kB)\n",
            "\u001b[K     |████████████████████████████████| 235 kB 70.8 MB/s \n",
            "\u001b[?25hCollecting Pillow>=8.3.2\n",
            "  Downloading Pillow-8.4.0-cp37-cp37m-manylinux_2_17_x86_64.manylinux2014_x86_64.whl (3.1 MB)\n",
            "\u001b[K     |████████████████████████████████| 3.1 MB 21.3 MB/s \n",
            "\u001b[?25hRequirement already satisfied: tqdm>=4.30.0 in /usr/local/lib/python3.7/dist-packages (from python-doctr[torch]) (4.62.3)\n",
            "Collecting rapidfuzz>=1.6.0\n",
            "  Downloading rapidfuzz-1.8.2-cp37-cp37m-manylinux_2_12_x86_64.manylinux2010_x86_64.whl (1.6 MB)\n",
            "\u001b[K     |████████████████████████████████| 1.6 MB 47.5 MB/s \n",
            "\u001b[?25hRequirement already satisfied: importlib_metadata in /usr/local/lib/python3.7/dist-packages (from python-doctr[torch]) (4.8.2)\n",
            "Requirement already satisfied: torch>=1.8.0 in /usr/local/lib/python3.7/dist-packages (from python-doctr[torch]) (1.10.0+cu111)\n",
            "Requirement already satisfied: torchvision>=0.9.0 in /usr/local/lib/python3.7/dist-packages (from python-doctr[torch]) (0.11.1+cu111)\n",
            "Requirement already satisfied: python-dateutil>=2.1 in /usr/local/lib/python3.7/dist-packages (from matplotlib<3.4.3,>=3.1.0->python-doctr[torch]) (2.8.2)\n",
            "Requirement already satisfied: cycler>=0.10 in /usr/local/lib/python3.7/dist-packages (from matplotlib<3.4.3,>=3.1.0->python-doctr[torch]) (0.11.0)\n",
            "Requirement already satisfied: pyparsing!=2.0.4,!=2.1.2,!=2.1.6,>=2.0.1 in /usr/local/lib/python3.7/dist-packages (from matplotlib<3.4.3,>=3.1.0->python-doctr[torch]) (2.4.7)\n",
            "Requirement already satisfied: kiwisolver>=1.0.1 in /usr/local/lib/python3.7/dist-packages (from matplotlib<3.4.3,>=3.1.0->python-doctr[torch]) (1.3.2)\n",
            "Requirement already satisfied: six>=1.5 in /usr/local/lib/python3.7/dist-packages (from python-dateutil>=2.1->matplotlib<3.4.3,>=3.1.0->python-doctr[torch]) (1.15.0)\n",
            "Requirement already satisfied: typing-extensions in /usr/local/lib/python3.7/dist-packages (from torch>=1.8.0->python-doctr[torch]) (3.10.0.2)\n",
            "Collecting cairocffi>=0.9.0\n",
            "  Downloading cairocffi-1.3.0.tar.gz (88 kB)\n",
            "\u001b[K     |████████████████████████████████| 88 kB 6.6 MB/s \n",
            "\u001b[?25hCollecting cssselect2>=0.1\n",
            "  Downloading cssselect2-0.4.1-py3-none-any.whl (13 kB)\n",
            "Requirement already satisfied: html5lib>=0.999999999 in /usr/local/lib/python3.7/dist-packages (from weasyprint<53.0,>=52.2->python-doctr[torch]) (1.0.1)\n",
            "Collecting Pyphen>=0.9.1\n",
            "  Downloading pyphen-0.11.0-py3-none-any.whl (2.0 MB)\n",
            "\u001b[K     |████████████████████████████████| 2.0 MB 21.1 MB/s \n",
            "\u001b[?25hRequirement already satisfied: cffi>=0.6 in /usr/local/lib/python3.7/dist-packages (from weasyprint<53.0,>=52.2->python-doctr[torch]) (1.15.0)\n",
            "Collecting tinycss2>=1.0.0\n",
            "  Downloading tinycss2-1.1.0-py3-none-any.whl (21 kB)\n",
            "Collecting CairoSVG>=2.4.0\n",
            "  Downloading CairoSVG-2.5.2-py3-none-any.whl (45 kB)\n",
            "\u001b[K     |████████████████████████████████| 45 kB 2.8 MB/s \n",
            "\u001b[?25hRequirement already satisfied: setuptools>=39.2.0 in /usr/local/lib/python3.7/dist-packages (from weasyprint<53.0,>=52.2->python-doctr[torch]) (57.4.0)\n",
            "Requirement already satisfied: defusedxml in /usr/local/lib/python3.7/dist-packages (from CairoSVG>=2.4.0->weasyprint<53.0,>=52.2->python-doctr[torch]) (0.7.1)\n",
            "Requirement already satisfied: pycparser in /usr/local/lib/python3.7/dist-packages (from cffi>=0.6->weasyprint<53.0,>=52.2->python-doctr[torch]) (2.21)\n",
            "Requirement already satisfied: webencodings in /usr/local/lib/python3.7/dist-packages (from cssselect2>=0.1->weasyprint<53.0,>=52.2->python-doctr[torch]) (0.5.1)\n",
            "Requirement already satisfied: zipp>=0.5 in /usr/local/lib/python3.7/dist-packages (from importlib_metadata->python-doctr[torch]) (3.6.0)\n",
            "Building wheels for collected packages: mplcursors, cairocffi\n",
            "  Building wheel for mplcursors (setup.py) ... \u001b[?25l\u001b[?25hdone\n",
            "  Created wheel for mplcursors: filename=mplcursors-0.5-py3-none-any.whl size=20760 sha256=a580bd3c6dfbf960ed8938c3933a841d582d91b2945a51c021f6a24f3edad2de\n",
            "  Stored in directory: /root/.cache/pip/wheels/64/50/e5/a7723b0f303621445e992075449b85a56098886e14d56d3e26\n",
            "  Building wheel for cairocffi (setup.py) ... \u001b[?25l\u001b[?25hdone\n",
            "  Created wheel for cairocffi: filename=cairocffi-1.3.0-py3-none-any.whl size=89667 sha256=f9fff4cc0bac4d4cb0adcb8deddbb247dee65106b4835ca00a910df00c8b3545\n",
            "  Stored in directory: /root/.cache/pip/wheels/4e/ca/e1/5c8a9692a27f639a07c949044bec943f26c81cd53d3805319f\n",
            "Successfully built mplcursors cairocffi\n",
            "Installing collected packages: tinycss2, Pillow, cssselect2, cairocffi, Pyphen, CairoSVG, weasyprint, unidecode, rapidfuzz, PyMuPDF, pyclipper, mplcursors, python-doctr\n",
            "  Attempting uninstall: Pillow\n",
            "    Found existing installation: Pillow 7.1.2\n",
            "    Uninstalling Pillow-7.1.2:\n",
            "      Successfully uninstalled Pillow-7.1.2\n",
            "  Running setup.py develop for python-doctr\n",
            "\u001b[31mERROR: pip's dependency resolver does not currently take into account all the packages that are installed. This behaviour is the source of the following dependency conflicts.\n",
            "albumentations 0.1.12 requires imgaug<0.2.7,>=0.2.5, but you have imgaug 0.2.9 which is incompatible.\u001b[0m\n",
            "Successfully installed CairoSVG-2.5.2 Pillow-8.4.0 PyMuPDF-1.18.10 Pyphen-0.11.0 cairocffi-1.3.0 cssselect2-0.4.1 mplcursors-0.5 pyclipper-1.3.0 python-doctr-0.4.1a0 rapidfuzz-1.8.2 tinycss2-1.1.0 unidecode-1.3.2 weasyprint-52.5\n"
          ]
        },
        {
          "output_type": "display_data",
          "data": {
            "application/vnd.colab-display-data+json": {
              "pip_warning": {
                "packages": [
                  "PIL"
                ]
              }
            }
          },
          "metadata": {}
        }
      ]
    },
    {
      "cell_type": "markdown",
      "metadata": {
        "id": "RvJ3PzAQI0zK"
      },
      "source": [
        "Now go to  `Runtime/Restart runtime` for your changes to take effect!"
      ]
    },
    {
      "cell_type": "markdown",
      "metadata": {
        "id": "r2mgRuCaJY4F"
      },
      "source": [
        "# Basic usage\n",
        "\n",
        "We're going to review the main features of docTR 🎁\n",
        "And for you to have a proper overview of its capabilities, we will need some free fonts for a proper output visualization:"
      ]
    },
    {
      "cell_type": "code",
      "metadata": {
        "id": "2Qhrp88TPDZi",
        "colab": {
          "base_uri": "https://localhost:8080/"
        },
        "outputId": "3609e1db-8578-4b54-8d9c-6582542797df"
      },
      "source": [
        "# Install some free fonts for result rendering\n",
        "!sudo apt-get install fonts-freefont-ttf -y"
      ],
      "execution_count": 2,
      "outputs": [
        {
          "output_type": "stream",
          "name": "stdout",
          "text": [
            "Reading package lists... Done\n",
            "Building dependency tree       \n",
            "Reading state information... Done\n",
            "The following package was automatically installed and is no longer required:\n",
            "  libnvidia-common-460\n",
            "Use 'sudo apt autoremove' to remove it.\n",
            "The following NEW packages will be installed:\n",
            "  fonts-freefont-ttf\n",
            "0 upgraded, 1 newly installed, 0 to remove and 20 not upgraded.\n",
            "Need to get 4,202 kB of archives.\n",
            "After this operation, 10.9 MB of additional disk space will be used.\n",
            "Get:1 http://archive.ubuntu.com/ubuntu bionic/main amd64 fonts-freefont-ttf all 20120503-7 [4,202 kB]\n",
            "Fetched 4,202 kB in 0s (8,951 kB/s)\n",
            "debconf: unable to initialize frontend: Dialog\n",
            "debconf: (No usable dialog-like program is installed, so the dialog based frontend cannot be used. at /usr/share/perl5/Debconf/FrontEnd/Dialog.pm line 76, <> line 1.)\n",
            "debconf: falling back to frontend: Readline\n",
            "debconf: unable to initialize frontend: Readline\n",
            "debconf: (This frontend requires a controlling tty.)\n",
            "debconf: falling back to frontend: Teletype\n",
            "dpkg-preconfigure: unable to re-open stdin: \n",
            "Selecting previously unselected package fonts-freefont-ttf.\n",
            "(Reading database ... 124016 files and directories currently installed.)\n",
            "Preparing to unpack .../fonts-freefont-ttf_20120503-7_all.deb ...\n",
            "Unpacking fonts-freefont-ttf (20120503-7) ...\n",
            "Setting up fonts-freefont-ttf (20120503-7) ...\n",
            "Processing triggers for fontconfig (2.12.6-0ubuntu2) ...\n"
          ]
        }
      ]
    },
    {
      "cell_type": "markdown",
      "metadata": {
        "id": "Fe7KuocKSWX9"
      },
      "source": [
        "Let's take care of all the imports directly"
      ]
    },
    {
      "cell_type": "code",
      "metadata": {
        "id": "xSoeo0hRJbnU",
        "outputId": "ea19a46d-20ee-423e-fc7a-4507ce72c1ef",
        "colab": {
          "base_uri": "https://localhost:8080/",
          "height": 766
        }
      },
      "source": [
        "%matplotlib inline\n",
        "import os\n",
        "\n",
        "# Let's pick the desired backend\n",
        "# os.environ['USE_TF'] = '1'\n",
        "os.environ['USE_TORCH'] = '1'\n",
        "\n",
        "import matplotlib.pyplot as plt\n",
        "\n",
        "# need to install older version of PIL for DocumentFile import\n",
        "# ref: https://stackoverflow.com/questions/73711994/importerror-cannot-import-name-is-directory-from-pil-util-usr-local-lib\n",
        "!pip install --upgrade pillow==6.2.2\n",
        "\n",
        "from doctr.io import DocumentFile\n",
        "from doctr.models import ocr_predictor"
      ],
      "execution_count": 6,
      "outputs": [
        {
          "output_type": "stream",
          "name": "stdout",
          "text": [
            "Looking in indexes: https://pypi.org/simple, https://us-python.pkg.dev/colab-wheels/public/simple/\n",
            "Collecting pillow==6.2.2\n",
            "  Downloading Pillow-6.2.2-cp38-cp38-manylinux1_x86_64.whl (2.1 MB)\n",
            "\u001b[2K     \u001b[90m━━━━━━━━━━━━━━━━━━━━━━━━━━━━━━━━━━━━━━━━\u001b[0m \u001b[32m2.1/2.1 MB\u001b[0m \u001b[31m23.1 MB/s\u001b[0m eta \u001b[36m0:00:00\u001b[0m\n",
            "\u001b[?25hInstalling collected packages: pillow\n",
            "  Attempting uninstall: pillow\n",
            "    Found existing installation: Pillow 9.4.0\n",
            "    Uninstalling Pillow-9.4.0:\n",
            "      Successfully uninstalled Pillow-9.4.0\n",
            "\u001b[31mERROR: pip's dependency resolver does not currently take into account all the packages that are installed. This behaviour is the source of the following dependency conflicts.\n",
            "weasyprint 57.2 requires Pillow>=9.1.0, but you have pillow 6.2.2 which is incompatible.\n",
            "python-doctr 0.6.0 requires Pillow>=8.3.2, but you have pillow 6.2.2 which is incompatible.\n",
            "bokeh 2.3.3 requires pillow>=7.1.0, but you have pillow 6.2.2 which is incompatible.\u001b[0m\u001b[31m\n",
            "\u001b[0mSuccessfully installed pillow-6.2.2\n"
          ]
        },
        {
          "output_type": "error",
          "ename": "ImportError",
          "evalue": "ignored",
          "traceback": [
            "\u001b[0;31m---------------------------------------------------------------------------\u001b[0m",
            "\u001b[0;31mImportError\u001b[0m                               Traceback (most recent call last)",
            "\u001b[0;32m<ipython-input-6-d06f64f873b1>\u001b[0m in \u001b[0;36m<module>\u001b[0;34m\u001b[0m\n\u001b[1;32m     12\u001b[0m \u001b[0mget_ipython\u001b[0m\u001b[0;34m(\u001b[0m\u001b[0;34m)\u001b[0m\u001b[0;34m.\u001b[0m\u001b[0msystem\u001b[0m\u001b[0;34m(\u001b[0m\u001b[0;34m'pip install --upgrade pillow==6.2.2'\u001b[0m\u001b[0;34m)\u001b[0m\u001b[0;34m\u001b[0m\u001b[0;34m\u001b[0m\u001b[0m\n\u001b[1;32m     13\u001b[0m \u001b[0;34m\u001b[0m\u001b[0m\n\u001b[0;32m---> 14\u001b[0;31m \u001b[0;32mfrom\u001b[0m \u001b[0mdoctr\u001b[0m\u001b[0;34m.\u001b[0m\u001b[0mio\u001b[0m \u001b[0;32mimport\u001b[0m \u001b[0mDocumentFile\u001b[0m\u001b[0;34m\u001b[0m\u001b[0;34m\u001b[0m\u001b[0m\n\u001b[0m\u001b[1;32m     15\u001b[0m \u001b[0;32mfrom\u001b[0m \u001b[0mdoctr\u001b[0m\u001b[0;34m.\u001b[0m\u001b[0mmodels\u001b[0m \u001b[0;32mimport\u001b[0m \u001b[0mocr_predictor\u001b[0m\u001b[0;34m\u001b[0m\u001b[0;34m\u001b[0m\u001b[0m\n",
            "\u001b[0;32m/usr/local/lib/python3.8/dist-packages/doctr/__init__.py\u001b[0m in \u001b[0;36m<module>\u001b[0;34m\u001b[0m\n\u001b[0;32m----> 1\u001b[0;31m \u001b[0;32mfrom\u001b[0m \u001b[0;34m.\u001b[0m \u001b[0;32mimport\u001b[0m \u001b[0mdatasets\u001b[0m\u001b[0;34m,\u001b[0m \u001b[0mio\u001b[0m\u001b[0;34m,\u001b[0m \u001b[0mmodels\u001b[0m\u001b[0;34m,\u001b[0m \u001b[0mtransforms\u001b[0m\u001b[0;34m,\u001b[0m \u001b[0mutils\u001b[0m\u001b[0;34m\u001b[0m\u001b[0;34m\u001b[0m\u001b[0m\n\u001b[0m\u001b[1;32m      2\u001b[0m \u001b[0;32mfrom\u001b[0m \u001b[0;34m.\u001b[0m\u001b[0mfile_utils\u001b[0m \u001b[0;32mimport\u001b[0m \u001b[0mis_tf_available\u001b[0m\u001b[0;34m,\u001b[0m \u001b[0mis_torch_available\u001b[0m\u001b[0;34m\u001b[0m\u001b[0;34m\u001b[0m\u001b[0m\n\u001b[1;32m      3\u001b[0m \u001b[0;32mfrom\u001b[0m \u001b[0;34m.\u001b[0m\u001b[0mversion\u001b[0m \u001b[0;32mimport\u001b[0m \u001b[0m__version__\u001b[0m  \u001b[0;31m# noqa: F401\u001b[0m\u001b[0;34m\u001b[0m\u001b[0;34m\u001b[0m\u001b[0m\n",
            "\u001b[0;32m/usr/local/lib/python3.8/dist-packages/doctr/datasets/__init__.py\u001b[0m in \u001b[0;36m<module>\u001b[0;34m\u001b[0m\n\u001b[1;32m      1\u001b[0m \u001b[0;32mfrom\u001b[0m \u001b[0mdoctr\u001b[0m\u001b[0;34m.\u001b[0m\u001b[0mfile_utils\u001b[0m \u001b[0;32mimport\u001b[0m \u001b[0mis_tf_available\u001b[0m\u001b[0;34m\u001b[0m\u001b[0;34m\u001b[0m\u001b[0m\n\u001b[1;32m      2\u001b[0m \u001b[0;34m\u001b[0m\u001b[0m\n\u001b[0;32m----> 3\u001b[0;31m \u001b[0;32mfrom\u001b[0m \u001b[0;34m.\u001b[0m\u001b[0mgenerator\u001b[0m \u001b[0;32mimport\u001b[0m \u001b[0;34m*\u001b[0m\u001b[0;34m\u001b[0m\u001b[0;34m\u001b[0m\u001b[0m\n\u001b[0m\u001b[1;32m      4\u001b[0m \u001b[0;32mfrom\u001b[0m \u001b[0;34m.\u001b[0m\u001b[0mcord\u001b[0m \u001b[0;32mimport\u001b[0m \u001b[0;34m*\u001b[0m\u001b[0;34m\u001b[0m\u001b[0;34m\u001b[0m\u001b[0m\n\u001b[1;32m      5\u001b[0m \u001b[0;32mfrom\u001b[0m \u001b[0;34m.\u001b[0m\u001b[0mdetection\u001b[0m \u001b[0;32mimport\u001b[0m \u001b[0;34m*\u001b[0m\u001b[0;34m\u001b[0m\u001b[0;34m\u001b[0m\u001b[0m\n",
            "\u001b[0;32m/usr/local/lib/python3.8/dist-packages/doctr/datasets/generator/__init__.py\u001b[0m in \u001b[0;36m<module>\u001b[0;34m\u001b[0m\n\u001b[1;32m      4\u001b[0m     \u001b[0;32mfrom\u001b[0m \u001b[0;34m.\u001b[0m\u001b[0mtensorflow\u001b[0m \u001b[0;32mimport\u001b[0m \u001b[0;34m*\u001b[0m\u001b[0;34m\u001b[0m\u001b[0;34m\u001b[0m\u001b[0m\n\u001b[1;32m      5\u001b[0m \u001b[0;32melif\u001b[0m \u001b[0mis_torch_available\u001b[0m\u001b[0;34m(\u001b[0m\u001b[0;34m)\u001b[0m\u001b[0;34m:\u001b[0m\u001b[0;34m\u001b[0m\u001b[0;34m\u001b[0m\u001b[0m\n\u001b[0;32m----> 6\u001b[0;31m     \u001b[0;32mfrom\u001b[0m \u001b[0;34m.\u001b[0m\u001b[0mpytorch\u001b[0m \u001b[0;32mimport\u001b[0m \u001b[0;34m*\u001b[0m  \u001b[0;31m# type: ignore[misc]\u001b[0m\u001b[0;34m\u001b[0m\u001b[0;34m\u001b[0m\u001b[0m\n\u001b[0m",
            "\u001b[0;32m/usr/local/lib/python3.8/dist-packages/doctr/datasets/generator/pytorch.py\u001b[0m in \u001b[0;36m<module>\u001b[0;34m\u001b[0m\n\u001b[1;32m      6\u001b[0m \u001b[0;32mfrom\u001b[0m \u001b[0mtorch\u001b[0m\u001b[0;34m.\u001b[0m\u001b[0mutils\u001b[0m\u001b[0;34m.\u001b[0m\u001b[0mdata\u001b[0m\u001b[0;34m.\u001b[0m\u001b[0m_utils\u001b[0m\u001b[0;34m.\u001b[0m\u001b[0mcollate\u001b[0m \u001b[0;32mimport\u001b[0m \u001b[0mdefault_collate\u001b[0m\u001b[0;34m\u001b[0m\u001b[0;34m\u001b[0m\u001b[0m\n\u001b[1;32m      7\u001b[0m \u001b[0;34m\u001b[0m\u001b[0m\n\u001b[0;32m----> 8\u001b[0;31m \u001b[0;32mfrom\u001b[0m \u001b[0;34m.\u001b[0m\u001b[0mbase\u001b[0m \u001b[0;32mimport\u001b[0m \u001b[0m_CharacterGenerator\u001b[0m\u001b[0;34m,\u001b[0m \u001b[0m_WordGenerator\u001b[0m\u001b[0;34m\u001b[0m\u001b[0;34m\u001b[0m\u001b[0m\n\u001b[0m\u001b[1;32m      9\u001b[0m \u001b[0;34m\u001b[0m\u001b[0m\n\u001b[1;32m     10\u001b[0m \u001b[0m__all__\u001b[0m \u001b[0;34m=\u001b[0m \u001b[0;34m[\u001b[0m\u001b[0;34m\"CharacterGenerator\"\u001b[0m\u001b[0;34m,\u001b[0m \u001b[0;34m\"WordGenerator\"\u001b[0m\u001b[0;34m]\u001b[0m\u001b[0;34m\u001b[0m\u001b[0;34m\u001b[0m\u001b[0m\n",
            "\u001b[0;32m/usr/local/lib/python3.8/dist-packages/doctr/datasets/generator/base.py\u001b[0m in \u001b[0;36m<module>\u001b[0;34m\u001b[0m\n\u001b[1;32m      9\u001b[0m \u001b[0;32mfrom\u001b[0m \u001b[0mPIL\u001b[0m \u001b[0;32mimport\u001b[0m \u001b[0mImage\u001b[0m\u001b[0;34m,\u001b[0m \u001b[0mImageDraw\u001b[0m\u001b[0;34m\u001b[0m\u001b[0;34m\u001b[0m\u001b[0m\n\u001b[1;32m     10\u001b[0m \u001b[0;34m\u001b[0m\u001b[0m\n\u001b[0;32m---> 11\u001b[0;31m \u001b[0;32mfrom\u001b[0m \u001b[0mdoctr\u001b[0m\u001b[0;34m.\u001b[0m\u001b[0mio\u001b[0m\u001b[0;34m.\u001b[0m\u001b[0mimage\u001b[0m \u001b[0;32mimport\u001b[0m \u001b[0mtensor_from_pil\u001b[0m\u001b[0;34m\u001b[0m\u001b[0;34m\u001b[0m\u001b[0m\n\u001b[0m\u001b[1;32m     12\u001b[0m \u001b[0;32mfrom\u001b[0m \u001b[0mdoctr\u001b[0m\u001b[0;34m.\u001b[0m\u001b[0mutils\u001b[0m\u001b[0;34m.\u001b[0m\u001b[0mfonts\u001b[0m \u001b[0;32mimport\u001b[0m \u001b[0mget_font\u001b[0m\u001b[0;34m\u001b[0m\u001b[0;34m\u001b[0m\u001b[0m\n\u001b[1;32m     13\u001b[0m \u001b[0;34m\u001b[0m\u001b[0m\n",
            "\u001b[0;32m/usr/local/lib/python3.8/dist-packages/doctr/io/__init__.py\u001b[0m in \u001b[0;36m<module>\u001b[0;34m\u001b[0m\n\u001b[0;32m----> 1\u001b[0;31m \u001b[0;32mfrom\u001b[0m \u001b[0;34m.\u001b[0m\u001b[0melements\u001b[0m \u001b[0;32mimport\u001b[0m \u001b[0;34m*\u001b[0m\u001b[0;34m\u001b[0m\u001b[0;34m\u001b[0m\u001b[0m\n\u001b[0m\u001b[1;32m      2\u001b[0m \u001b[0;32mfrom\u001b[0m \u001b[0;34m.\u001b[0m\u001b[0mhtml\u001b[0m \u001b[0;32mimport\u001b[0m \u001b[0;34m*\u001b[0m\u001b[0;34m\u001b[0m\u001b[0;34m\u001b[0m\u001b[0m\n\u001b[1;32m      3\u001b[0m \u001b[0;32mfrom\u001b[0m \u001b[0;34m.\u001b[0m\u001b[0mimage\u001b[0m \u001b[0;32mimport\u001b[0m \u001b[0;34m*\u001b[0m\u001b[0;34m\u001b[0m\u001b[0;34m\u001b[0m\u001b[0m\n\u001b[1;32m      4\u001b[0m \u001b[0;32mfrom\u001b[0m \u001b[0;34m.\u001b[0m\u001b[0mpdf\u001b[0m \u001b[0;32mimport\u001b[0m \u001b[0;34m*\u001b[0m\u001b[0;34m\u001b[0m\u001b[0;34m\u001b[0m\u001b[0m\n\u001b[1;32m      5\u001b[0m \u001b[0;32mfrom\u001b[0m \u001b[0;34m.\u001b[0m\u001b[0mreader\u001b[0m \u001b[0;32mimport\u001b[0m \u001b[0;34m*\u001b[0m\u001b[0;34m\u001b[0m\u001b[0;34m\u001b[0m\u001b[0m\n",
            "\u001b[0;32m/usr/local/lib/python3.8/dist-packages/doctr/io/elements.py\u001b[0m in \u001b[0;36m<module>\u001b[0;34m\u001b[0m\n\u001b[1;32m     20\u001b[0m \u001b[0;32mfrom\u001b[0m \u001b[0mdoctr\u001b[0m\u001b[0;34m.\u001b[0m\u001b[0mutils\u001b[0m\u001b[0;34m.\u001b[0m\u001b[0mgeometry\u001b[0m \u001b[0;32mimport\u001b[0m \u001b[0mresolve_enclosing_bbox\u001b[0m\u001b[0;34m,\u001b[0m \u001b[0mresolve_enclosing_rbbox\u001b[0m\u001b[0;34m\u001b[0m\u001b[0;34m\u001b[0m\u001b[0m\n\u001b[1;32m     21\u001b[0m \u001b[0;32mfrom\u001b[0m \u001b[0mdoctr\u001b[0m\u001b[0;34m.\u001b[0m\u001b[0mutils\u001b[0m\u001b[0;34m.\u001b[0m\u001b[0mrepr\u001b[0m \u001b[0;32mimport\u001b[0m \u001b[0mNestedObject\u001b[0m\u001b[0;34m\u001b[0m\u001b[0;34m\u001b[0m\u001b[0m\n\u001b[0;32m---> 22\u001b[0;31m \u001b[0;32mfrom\u001b[0m \u001b[0mdoctr\u001b[0m\u001b[0;34m.\u001b[0m\u001b[0mutils\u001b[0m\u001b[0;34m.\u001b[0m\u001b[0mvisualization\u001b[0m \u001b[0;32mimport\u001b[0m \u001b[0msynthesize_page\u001b[0m\u001b[0;34m,\u001b[0m \u001b[0mvisualize_page\u001b[0m\u001b[0;34m\u001b[0m\u001b[0;34m\u001b[0m\u001b[0m\n\u001b[0m\u001b[1;32m     23\u001b[0m \u001b[0;34m\u001b[0m\u001b[0m\n\u001b[1;32m     24\u001b[0m \u001b[0m__all__\u001b[0m \u001b[0;34m=\u001b[0m \u001b[0;34m[\u001b[0m\u001b[0;34m\"Element\"\u001b[0m\u001b[0;34m,\u001b[0m \u001b[0;34m\"Word\"\u001b[0m\u001b[0;34m,\u001b[0m \u001b[0;34m\"Artefact\"\u001b[0m\u001b[0;34m,\u001b[0m \u001b[0;34m\"Line\"\u001b[0m\u001b[0;34m,\u001b[0m \u001b[0;34m\"Block\"\u001b[0m\u001b[0;34m,\u001b[0m \u001b[0;34m\"Page\"\u001b[0m\u001b[0;34m,\u001b[0m \u001b[0;34m\"Document\"\u001b[0m\u001b[0;34m]\u001b[0m\u001b[0;34m\u001b[0m\u001b[0;34m\u001b[0m\u001b[0m\n",
            "\u001b[0;32m/usr/local/lib/python3.8/dist-packages/doctr/utils/visualization.py\u001b[0m in \u001b[0;36m<module>\u001b[0;34m\u001b[0m\n\u001b[1;32m     17\u001b[0m \u001b[0;34m\u001b[0m\u001b[0m\n\u001b[1;32m     18\u001b[0m \u001b[0;32mfrom\u001b[0m \u001b[0;34m.\u001b[0m\u001b[0mcommon_types\u001b[0m \u001b[0;32mimport\u001b[0m \u001b[0mBoundingBox\u001b[0m\u001b[0;34m,\u001b[0m \u001b[0mPolygon4P\u001b[0m\u001b[0;34m\u001b[0m\u001b[0;34m\u001b[0m\u001b[0m\n\u001b[0;32m---> 19\u001b[0;31m \u001b[0;32mfrom\u001b[0m \u001b[0;34m.\u001b[0m\u001b[0mfonts\u001b[0m \u001b[0;32mimport\u001b[0m \u001b[0mget_font\u001b[0m\u001b[0;34m\u001b[0m\u001b[0;34m\u001b[0m\u001b[0m\n\u001b[0m\u001b[1;32m     20\u001b[0m \u001b[0;34m\u001b[0m\u001b[0m\n\u001b[1;32m     21\u001b[0m \u001b[0m__all__\u001b[0m \u001b[0;34m=\u001b[0m \u001b[0;34m[\u001b[0m\u001b[0;34m\"visualize_page\"\u001b[0m\u001b[0;34m,\u001b[0m \u001b[0;34m\"synthesize_page\"\u001b[0m\u001b[0;34m,\u001b[0m \u001b[0;34m\"draw_boxes\"\u001b[0m\u001b[0;34m]\u001b[0m\u001b[0;34m\u001b[0m\u001b[0;34m\u001b[0m\u001b[0m\n",
            "\u001b[0;32m/usr/local/lib/python3.8/dist-packages/doctr/utils/fonts.py\u001b[0m in \u001b[0;36m<module>\u001b[0;34m\u001b[0m\n\u001b[1;32m      8\u001b[0m \u001b[0;32mfrom\u001b[0m \u001b[0mtyping\u001b[0m \u001b[0;32mimport\u001b[0m \u001b[0mOptional\u001b[0m\u001b[0;34m\u001b[0m\u001b[0;34m\u001b[0m\u001b[0m\n\u001b[1;32m      9\u001b[0m \u001b[0;34m\u001b[0m\u001b[0m\n\u001b[0;32m---> 10\u001b[0;31m \u001b[0;32mfrom\u001b[0m \u001b[0mPIL\u001b[0m \u001b[0;32mimport\u001b[0m \u001b[0mImageFont\u001b[0m\u001b[0;34m\u001b[0m\u001b[0;34m\u001b[0m\u001b[0m\n\u001b[0m\u001b[1;32m     11\u001b[0m \u001b[0;34m\u001b[0m\u001b[0m\n\u001b[1;32m     12\u001b[0m \u001b[0m__all__\u001b[0m \u001b[0;34m=\u001b[0m \u001b[0;34m[\u001b[0m\u001b[0;34m\"get_font\"\u001b[0m\u001b[0;34m]\u001b[0m\u001b[0;34m\u001b[0m\u001b[0;34m\u001b[0m\u001b[0m\n",
            "\u001b[0;32m/usr/local/lib/python3.8/dist-packages/PIL/ImageFont.py\u001b[0m in \u001b[0;36m<module>\u001b[0;34m\u001b[0m\n\u001b[1;32m     30\u001b[0m \u001b[0;34m\u001b[0m\u001b[0m\n\u001b[1;32m     31\u001b[0m \u001b[0;32mfrom\u001b[0m \u001b[0;34m.\u001b[0m \u001b[0;32mimport\u001b[0m \u001b[0mImage\u001b[0m\u001b[0;34m\u001b[0m\u001b[0;34m\u001b[0m\u001b[0m\n\u001b[0;32m---> 32\u001b[0;31m \u001b[0;32mfrom\u001b[0m \u001b[0;34m.\u001b[0m\u001b[0m_util\u001b[0m \u001b[0;32mimport\u001b[0m \u001b[0misDirectory\u001b[0m\u001b[0;34m,\u001b[0m \u001b[0misPath\u001b[0m\u001b[0;34m,\u001b[0m \u001b[0mpy3\u001b[0m\u001b[0;34m\u001b[0m\u001b[0;34m\u001b[0m\u001b[0m\n\u001b[0m\u001b[1;32m     33\u001b[0m \u001b[0;34m\u001b[0m\u001b[0m\n\u001b[1;32m     34\u001b[0m \u001b[0mLAYOUT_BASIC\u001b[0m \u001b[0;34m=\u001b[0m \u001b[0;36m0\u001b[0m\u001b[0;34m\u001b[0m\u001b[0;34m\u001b[0m\u001b[0m\n",
            "\u001b[0;31mImportError\u001b[0m: cannot import name 'py3' from 'PIL._util' (/usr/local/lib/python3.8/dist-packages/PIL/_util.py)",
            "",
            "\u001b[0;31m---------------------------------------------------------------------------\u001b[0;32m\nNOTE: If your import is failing due to a missing package, you can\nmanually install dependencies using either !pip or !apt.\n\nTo view examples of installing some common dependencies, click the\n\"Open Examples\" button below.\n\u001b[0;31m---------------------------------------------------------------------------\u001b[0m\n"
          ],
          "errorDetails": {
            "actions": [
              {
                "action": "open_url",
                "actionText": "Open Examples",
                "url": "/notebooks/snippets/importing_libraries.ipynb"
              }
            ]
          }
        }
      ]
    },
    {
      "cell_type": "markdown",
      "metadata": {
        "id": "7wwEmHqZSaLF"
      },
      "source": [
        "For the next steps, we will need a proper PDF document that will be used to showcase the library features"
      ]
    },
    {
      "cell_type": "code",
      "metadata": {
        "id": "UIBwFsVuJocy",
        "colab": {
          "base_uri": "https://localhost:8080/",
          "height": 409
        },
        "outputId": "a444f38a-881d-44c9-839e-c19dacc8aa82"
      },
      "source": [
        "# Download a sample\n",
        "!wget https://eforms.com/download/2019/01/Cash-Payment-Receipt-Template.pdf\n",
        "# Read the file\n",
        "doc = DocumentFile.from_pdf(\"Cash-Payment-Receipt-Template.pdf\")\n",
        "print(f\"Number of pages: {len(doc)}\")"
      ],
      "execution_count": 4,
      "outputs": [
        {
          "output_type": "stream",
          "name": "stdout",
          "text": [
            "--2023-01-05 14:34:10--  https://eforms.com/download/2019/01/Cash-Payment-Receipt-Template.pdf\n",
            "Resolving eforms.com (eforms.com)... 52.206.2.160\n",
            "Connecting to eforms.com (eforms.com)|52.206.2.160|:443... connected.\n",
            "HTTP request sent, awaiting response... 200 OK\n",
            "Length: 16080 (16K) [application/pdf]\n",
            "Saving to: ‘Cash-Payment-Receipt-Template.pdf’\n",
            "\n",
            "Cash-Payment-Receip 100%[===================>]  15.70K  --.-KB/s    in 0s      \n",
            "\n",
            "2023-01-05 14:34:11 (158 MB/s) - ‘Cash-Payment-Receipt-Template.pdf’ saved [16080/16080]\n",
            "\n"
          ]
        },
        {
          "output_type": "error",
          "ename": "NameError",
          "evalue": "ignored",
          "traceback": [
            "\u001b[0;31m---------------------------------------------------------------------------\u001b[0m",
            "\u001b[0;31mNameError\u001b[0m                                 Traceback (most recent call last)",
            "\u001b[0;32m<ipython-input-4-921fb7824948>\u001b[0m in \u001b[0;36m<module>\u001b[0;34m\u001b[0m\n\u001b[1;32m      2\u001b[0m \u001b[0mget_ipython\u001b[0m\u001b[0;34m(\u001b[0m\u001b[0;34m)\u001b[0m\u001b[0;34m.\u001b[0m\u001b[0msystem\u001b[0m\u001b[0;34m(\u001b[0m\u001b[0;34m'wget https://eforms.com/download/2019/01/Cash-Payment-Receipt-Template.pdf'\u001b[0m\u001b[0;34m)\u001b[0m\u001b[0;34m\u001b[0m\u001b[0;34m\u001b[0m\u001b[0m\n\u001b[1;32m      3\u001b[0m \u001b[0;31m# Read the file\u001b[0m\u001b[0;34m\u001b[0m\u001b[0;34m\u001b[0m\u001b[0;34m\u001b[0m\u001b[0m\n\u001b[0;32m----> 4\u001b[0;31m \u001b[0mdoc\u001b[0m \u001b[0;34m=\u001b[0m \u001b[0mDocumentFile\u001b[0m\u001b[0;34m.\u001b[0m\u001b[0mfrom_pdf\u001b[0m\u001b[0;34m(\u001b[0m\u001b[0;34m\"Cash-Payment-Receipt-Template.pdf\"\u001b[0m\u001b[0;34m)\u001b[0m\u001b[0;34m\u001b[0m\u001b[0;34m\u001b[0m\u001b[0m\n\u001b[0m\u001b[1;32m      5\u001b[0m \u001b[0mprint\u001b[0m\u001b[0;34m(\u001b[0m\u001b[0;34mf\"Number of pages: {len(doc)}\"\u001b[0m\u001b[0;34m)\u001b[0m\u001b[0;34m\u001b[0m\u001b[0;34m\u001b[0m\u001b[0m\n",
            "\u001b[0;31mNameError\u001b[0m: name 'DocumentFile' is not defined"
          ]
        }
      ]
    },
    {
      "cell_type": "markdown",
      "metadata": {
        "id": "cM6PPiWpSmb0"
      },
      "source": [
        "docTR is, under the hood, running Deep Learning models to perform the different tasks it supports. Those models were built and trained with very popular frameworks for maximum compatibility (you will be pleased to know that you can switch from [PyTorch](https://pytorch.org/) to [TensorFlow](https://www.tensorflow.org/) without noticing any difference for you). By default, our high-level API sets the best default values so that you get high performing models without having to know anything about it. All of this is wrapper in a `Predictor` object, which will take care of pre-processing, model inference and post-processing for you ⚡\n",
        "\n",
        "Let's instantiate one!"
      ]
    },
    {
      "cell_type": "code",
      "metadata": {
        "id": "WAoUcVQbKIfT",
        "colab": {
          "base_uri": "https://localhost:8080/",
          "height": 115,
          "referenced_widgets": [
            "853d540efdb64483b090f7208786a60f",
            "47f6efd53b2f4373ba1ee2fd2b625407",
            "b246851e58964994b068e7a69c753eab",
            "12c6398f0f994a6a8234d74bffbe3adf",
            "0c8ccb5e9ce24f979cfeb0bf3568e1d1",
            "48273d650e164958ad2309eee9eafbac",
            "badeefe02d7c4735963f60a26d53403a",
            "8b3aefd84fb545a1bacd1b58a7b87d06",
            "255d40d50e00452f8be94872551926d3",
            "808b2f2294434286859c45ee2ebc8329",
            "71f57cf815c944eda27ad2de5915c38d",
            "9909eded3357434195a3a7a94a0c2e7d",
            "de13fcd0c7214d7aa250269623ef28ed",
            "6419270b9b1441eaba2ca28208a5f4f4",
            "6c7aca05daf042148d1a327847a3f009",
            "8653936bdf624200982025e4c5e12bde",
            "cad3b443db364e318f48a140f46d0828",
            "7f1a128cebcd41f7920f2b2fcb4f0b9b",
            "a1ea585d5f394d9aa3668183fda69fa3",
            "e18fcb374f5c4fd48d3634bf4837e169",
            "a554b6e0f52e4f5bbeb28917d67f6518",
            "eea9400a14de45f583f37f5bbfa3952c"
          ]
        },
        "outputId": "68992416-2561-4eca-ff31-1350260ad630"
      },
      "source": [
        "# Instantiate a pretrained model\n",
        "predictor = ocr_predictor(pretrained=True)"
      ],
      "execution_count": null,
      "outputs": [
        {
          "output_type": "stream",
          "name": "stdout",
          "text": [
            "Downloading https://github.com/mindee/doctr/releases/download/v0.3.1/db_resnet50-ac60cadc.pt to /root/.cache/doctr/models/db_resnet50-ac60cadc.pt\n"
          ]
        },
        {
          "output_type": "display_data",
          "data": {
            "application/vnd.jupyter.widget-view+json": {
              "model_id": "853d540efdb64483b090f7208786a60f",
              "version_minor": 0,
              "version_major": 2
            },
            "text/plain": [
              "  0%|          | 0/101971449 [00:00<?, ?it/s]"
            ]
          },
          "metadata": {}
        },
        {
          "output_type": "stream",
          "name": "stdout",
          "text": [
            "Downloading https://github.com/mindee/doctr/releases/download/v0.3.1/crnn_vgg16_bn-9762b0b0.pt to /root/.cache/doctr/models/crnn_vgg16_bn-9762b0b0.pt\n"
          ]
        },
        {
          "output_type": "display_data",
          "data": {
            "application/vnd.jupyter.widget-view+json": {
              "model_id": "9909eded3357434195a3a7a94a0c2e7d",
              "version_minor": 0,
              "version_major": 2
            },
            "text/plain": [
              "  0%|          | 0/63286381 [00:00<?, ?it/s]"
            ]
          },
          "metadata": {}
        }
      ]
    },
    {
      "cell_type": "markdown",
      "metadata": {
        "id": "PKKYSs0ET0XQ"
      },
      "source": [
        "By default, PyTorch model provides a nice visual description of a model, which is handy when it comes to debugging or knowing what you just created. We also added a similar feature for TensorFlow backend so that you don't miss on this nice assistance.\n",
        "\n",
        "Let's dive into this model 🕵"
      ]
    },
    {
      "cell_type": "code",
      "metadata": {
        "id": "urR0KyUYOT-B",
        "colab": {
          "base_uri": "https://localhost:8080/"
        },
        "outputId": "0fb427b8-5deb-4f49-b171-c79296aa16cc"
      },
      "source": [
        "# Display the architecture\n",
        "print(predictor)"
      ],
      "execution_count": null,
      "outputs": [
        {
          "output_type": "stream",
          "name": "stdout",
          "text": [
            "OCRPredictor(\n",
            "  (det_predictor): DetectionPredictor(\n",
            "    (pre_processor): PreProcessor(\n",
            "      (resize): Resize(output_size=(1024, 1024), interpolation='bilinear')\n",
            "      (normalize): Normalize(mean=(0.798, 0.785, 0.772), std=(0.264, 0.2749, 0.287))\n",
            "    )\n",
            "    (model): DBNet(\n",
            "      (feat_extractor): IntermediateLayerGetter(\n",
            "        (conv1): Conv2d(3, 64, kernel_size=(7, 7), stride=(2, 2), padding=(3, 3), bias=False)\n",
            "        (bn1): BatchNorm2d(64, eps=1e-05, momentum=0.1, affine=True, track_running_stats=True)\n",
            "        (relu): ReLU(inplace=True)\n",
            "        (maxpool): MaxPool2d(kernel_size=3, stride=2, padding=1, dilation=1, ceil_mode=False)\n",
            "        (layer1): Sequential(\n",
            "          (0): Bottleneck(\n",
            "            (conv1): Conv2d(64, 64, kernel_size=(1, 1), stride=(1, 1), bias=False)\n",
            "            (bn1): BatchNorm2d(64, eps=1e-05, momentum=0.1, affine=True, track_running_stats=True)\n",
            "            (conv2): Conv2d(64, 64, kernel_size=(3, 3), stride=(1, 1), padding=(1, 1), bias=False)\n",
            "            (bn2): BatchNorm2d(64, eps=1e-05, momentum=0.1, affine=True, track_running_stats=True)\n",
            "            (conv3): Conv2d(64, 256, kernel_size=(1, 1), stride=(1, 1), bias=False)\n",
            "            (bn3): BatchNorm2d(256, eps=1e-05, momentum=0.1, affine=True, track_running_stats=True)\n",
            "            (relu): ReLU(inplace=True)\n",
            "            (downsample): Sequential(\n",
            "              (0): Conv2d(64, 256, kernel_size=(1, 1), stride=(1, 1), bias=False)\n",
            "              (1): BatchNorm2d(256, eps=1e-05, momentum=0.1, affine=True, track_running_stats=True)\n",
            "            )\n",
            "          )\n",
            "          (1): Bottleneck(\n",
            "            (conv1): Conv2d(256, 64, kernel_size=(1, 1), stride=(1, 1), bias=False)\n",
            "            (bn1): BatchNorm2d(64, eps=1e-05, momentum=0.1, affine=True, track_running_stats=True)\n",
            "            (conv2): Conv2d(64, 64, kernel_size=(3, 3), stride=(1, 1), padding=(1, 1), bias=False)\n",
            "            (bn2): BatchNorm2d(64, eps=1e-05, momentum=0.1, affine=True, track_running_stats=True)\n",
            "            (conv3): Conv2d(64, 256, kernel_size=(1, 1), stride=(1, 1), bias=False)\n",
            "            (bn3): BatchNorm2d(256, eps=1e-05, momentum=0.1, affine=True, track_running_stats=True)\n",
            "            (relu): ReLU(inplace=True)\n",
            "          )\n",
            "          (2): Bottleneck(\n",
            "            (conv1): Conv2d(256, 64, kernel_size=(1, 1), stride=(1, 1), bias=False)\n",
            "            (bn1): BatchNorm2d(64, eps=1e-05, momentum=0.1, affine=True, track_running_stats=True)\n",
            "            (conv2): Conv2d(64, 64, kernel_size=(3, 3), stride=(1, 1), padding=(1, 1), bias=False)\n",
            "            (bn2): BatchNorm2d(64, eps=1e-05, momentum=0.1, affine=True, track_running_stats=True)\n",
            "            (conv3): Conv2d(64, 256, kernel_size=(1, 1), stride=(1, 1), bias=False)\n",
            "            (bn3): BatchNorm2d(256, eps=1e-05, momentum=0.1, affine=True, track_running_stats=True)\n",
            "            (relu): ReLU(inplace=True)\n",
            "          )\n",
            "        )\n",
            "        (layer2): Sequential(\n",
            "          (0): Bottleneck(\n",
            "            (conv1): Conv2d(256, 128, kernel_size=(1, 1), stride=(1, 1), bias=False)\n",
            "            (bn1): BatchNorm2d(128, eps=1e-05, momentum=0.1, affine=True, track_running_stats=True)\n",
            "            (conv2): Conv2d(128, 128, kernel_size=(3, 3), stride=(2, 2), padding=(1, 1), bias=False)\n",
            "            (bn2): BatchNorm2d(128, eps=1e-05, momentum=0.1, affine=True, track_running_stats=True)\n",
            "            (conv3): Conv2d(128, 512, kernel_size=(1, 1), stride=(1, 1), bias=False)\n",
            "            (bn3): BatchNorm2d(512, eps=1e-05, momentum=0.1, affine=True, track_running_stats=True)\n",
            "            (relu): ReLU(inplace=True)\n",
            "            (downsample): Sequential(\n",
            "              (0): Conv2d(256, 512, kernel_size=(1, 1), stride=(2, 2), bias=False)\n",
            "              (1): BatchNorm2d(512, eps=1e-05, momentum=0.1, affine=True, track_running_stats=True)\n",
            "            )\n",
            "          )\n",
            "          (1): Bottleneck(\n",
            "            (conv1): Conv2d(512, 128, kernel_size=(1, 1), stride=(1, 1), bias=False)\n",
            "            (bn1): BatchNorm2d(128, eps=1e-05, momentum=0.1, affine=True, track_running_stats=True)\n",
            "            (conv2): Conv2d(128, 128, kernel_size=(3, 3), stride=(1, 1), padding=(1, 1), bias=False)\n",
            "            (bn2): BatchNorm2d(128, eps=1e-05, momentum=0.1, affine=True, track_running_stats=True)\n",
            "            (conv3): Conv2d(128, 512, kernel_size=(1, 1), stride=(1, 1), bias=False)\n",
            "            (bn3): BatchNorm2d(512, eps=1e-05, momentum=0.1, affine=True, track_running_stats=True)\n",
            "            (relu): ReLU(inplace=True)\n",
            "          )\n",
            "          (2): Bottleneck(\n",
            "            (conv1): Conv2d(512, 128, kernel_size=(1, 1), stride=(1, 1), bias=False)\n",
            "            (bn1): BatchNorm2d(128, eps=1e-05, momentum=0.1, affine=True, track_running_stats=True)\n",
            "            (conv2): Conv2d(128, 128, kernel_size=(3, 3), stride=(1, 1), padding=(1, 1), bias=False)\n",
            "            (bn2): BatchNorm2d(128, eps=1e-05, momentum=0.1, affine=True, track_running_stats=True)\n",
            "            (conv3): Conv2d(128, 512, kernel_size=(1, 1), stride=(1, 1), bias=False)\n",
            "            (bn3): BatchNorm2d(512, eps=1e-05, momentum=0.1, affine=True, track_running_stats=True)\n",
            "            (relu): ReLU(inplace=True)\n",
            "          )\n",
            "          (3): Bottleneck(\n",
            "            (conv1): Conv2d(512, 128, kernel_size=(1, 1), stride=(1, 1), bias=False)\n",
            "            (bn1): BatchNorm2d(128, eps=1e-05, momentum=0.1, affine=True, track_running_stats=True)\n",
            "            (conv2): Conv2d(128, 128, kernel_size=(3, 3), stride=(1, 1), padding=(1, 1), bias=False)\n",
            "            (bn2): BatchNorm2d(128, eps=1e-05, momentum=0.1, affine=True, track_running_stats=True)\n",
            "            (conv3): Conv2d(128, 512, kernel_size=(1, 1), stride=(1, 1), bias=False)\n",
            "            (bn3): BatchNorm2d(512, eps=1e-05, momentum=0.1, affine=True, track_running_stats=True)\n",
            "            (relu): ReLU(inplace=True)\n",
            "          )\n",
            "        )\n",
            "        (layer3): Sequential(\n",
            "          (0): Bottleneck(\n",
            "            (conv1): Conv2d(512, 256, kernel_size=(1, 1), stride=(1, 1), bias=False)\n",
            "            (bn1): BatchNorm2d(256, eps=1e-05, momentum=0.1, affine=True, track_running_stats=True)\n",
            "            (conv2): Conv2d(256, 256, kernel_size=(3, 3), stride=(2, 2), padding=(1, 1), bias=False)\n",
            "            (bn2): BatchNorm2d(256, eps=1e-05, momentum=0.1, affine=True, track_running_stats=True)\n",
            "            (conv3): Conv2d(256, 1024, kernel_size=(1, 1), stride=(1, 1), bias=False)\n",
            "            (bn3): BatchNorm2d(1024, eps=1e-05, momentum=0.1, affine=True, track_running_stats=True)\n",
            "            (relu): ReLU(inplace=True)\n",
            "            (downsample): Sequential(\n",
            "              (0): Conv2d(512, 1024, kernel_size=(1, 1), stride=(2, 2), bias=False)\n",
            "              (1): BatchNorm2d(1024, eps=1e-05, momentum=0.1, affine=True, track_running_stats=True)\n",
            "            )\n",
            "          )\n",
            "          (1): Bottleneck(\n",
            "            (conv1): Conv2d(1024, 256, kernel_size=(1, 1), stride=(1, 1), bias=False)\n",
            "            (bn1): BatchNorm2d(256, eps=1e-05, momentum=0.1, affine=True, track_running_stats=True)\n",
            "            (conv2): Conv2d(256, 256, kernel_size=(3, 3), stride=(1, 1), padding=(1, 1), bias=False)\n",
            "            (bn2): BatchNorm2d(256, eps=1e-05, momentum=0.1, affine=True, track_running_stats=True)\n",
            "            (conv3): Conv2d(256, 1024, kernel_size=(1, 1), stride=(1, 1), bias=False)\n",
            "            (bn3): BatchNorm2d(1024, eps=1e-05, momentum=0.1, affine=True, track_running_stats=True)\n",
            "            (relu): ReLU(inplace=True)\n",
            "          )\n",
            "          (2): Bottleneck(\n",
            "            (conv1): Conv2d(1024, 256, kernel_size=(1, 1), stride=(1, 1), bias=False)\n",
            "            (bn1): BatchNorm2d(256, eps=1e-05, momentum=0.1, affine=True, track_running_stats=True)\n",
            "            (conv2): Conv2d(256, 256, kernel_size=(3, 3), stride=(1, 1), padding=(1, 1), bias=False)\n",
            "            (bn2): BatchNorm2d(256, eps=1e-05, momentum=0.1, affine=True, track_running_stats=True)\n",
            "            (conv3): Conv2d(256, 1024, kernel_size=(1, 1), stride=(1, 1), bias=False)\n",
            "            (bn3): BatchNorm2d(1024, eps=1e-05, momentum=0.1, affine=True, track_running_stats=True)\n",
            "            (relu): ReLU(inplace=True)\n",
            "          )\n",
            "          (3): Bottleneck(\n",
            "            (conv1): Conv2d(1024, 256, kernel_size=(1, 1), stride=(1, 1), bias=False)\n",
            "            (bn1): BatchNorm2d(256, eps=1e-05, momentum=0.1, affine=True, track_running_stats=True)\n",
            "            (conv2): Conv2d(256, 256, kernel_size=(3, 3), stride=(1, 1), padding=(1, 1), bias=False)\n",
            "            (bn2): BatchNorm2d(256, eps=1e-05, momentum=0.1, affine=True, track_running_stats=True)\n",
            "            (conv3): Conv2d(256, 1024, kernel_size=(1, 1), stride=(1, 1), bias=False)\n",
            "            (bn3): BatchNorm2d(1024, eps=1e-05, momentum=0.1, affine=True, track_running_stats=True)\n",
            "            (relu): ReLU(inplace=True)\n",
            "          )\n",
            "          (4): Bottleneck(\n",
            "            (conv1): Conv2d(1024, 256, kernel_size=(1, 1), stride=(1, 1), bias=False)\n",
            "            (bn1): BatchNorm2d(256, eps=1e-05, momentum=0.1, affine=True, track_running_stats=True)\n",
            "            (conv2): Conv2d(256, 256, kernel_size=(3, 3), stride=(1, 1), padding=(1, 1), bias=False)\n",
            "            (bn2): BatchNorm2d(256, eps=1e-05, momentum=0.1, affine=True, track_running_stats=True)\n",
            "            (conv3): Conv2d(256, 1024, kernel_size=(1, 1), stride=(1, 1), bias=False)\n",
            "            (bn3): BatchNorm2d(1024, eps=1e-05, momentum=0.1, affine=True, track_running_stats=True)\n",
            "            (relu): ReLU(inplace=True)\n",
            "          )\n",
            "          (5): Bottleneck(\n",
            "            (conv1): Conv2d(1024, 256, kernel_size=(1, 1), stride=(1, 1), bias=False)\n",
            "            (bn1): BatchNorm2d(256, eps=1e-05, momentum=0.1, affine=True, track_running_stats=True)\n",
            "            (conv2): Conv2d(256, 256, kernel_size=(3, 3), stride=(1, 1), padding=(1, 1), bias=False)\n",
            "            (bn2): BatchNorm2d(256, eps=1e-05, momentum=0.1, affine=True, track_running_stats=True)\n",
            "            (conv3): Conv2d(256, 1024, kernel_size=(1, 1), stride=(1, 1), bias=False)\n",
            "            (bn3): BatchNorm2d(1024, eps=1e-05, momentum=0.1, affine=True, track_running_stats=True)\n",
            "            (relu): ReLU(inplace=True)\n",
            "          )\n",
            "        )\n",
            "        (layer4): Sequential(\n",
            "          (0): Bottleneck(\n",
            "            (conv1): Conv2d(1024, 512, kernel_size=(1, 1), stride=(1, 1), bias=False)\n",
            "            (bn1): BatchNorm2d(512, eps=1e-05, momentum=0.1, affine=True, track_running_stats=True)\n",
            "            (conv2): Conv2d(512, 512, kernel_size=(3, 3), stride=(2, 2), padding=(1, 1), bias=False)\n",
            "            (bn2): BatchNorm2d(512, eps=1e-05, momentum=0.1, affine=True, track_running_stats=True)\n",
            "            (conv3): Conv2d(512, 2048, kernel_size=(1, 1), stride=(1, 1), bias=False)\n",
            "            (bn3): BatchNorm2d(2048, eps=1e-05, momentum=0.1, affine=True, track_running_stats=True)\n",
            "            (relu): ReLU(inplace=True)\n",
            "            (downsample): Sequential(\n",
            "              (0): Conv2d(1024, 2048, kernel_size=(1, 1), stride=(2, 2), bias=False)\n",
            "              (1): BatchNorm2d(2048, eps=1e-05, momentum=0.1, affine=True, track_running_stats=True)\n",
            "            )\n",
            "          )\n",
            "          (1): Bottleneck(\n",
            "            (conv1): Conv2d(2048, 512, kernel_size=(1, 1), stride=(1, 1), bias=False)\n",
            "            (bn1): BatchNorm2d(512, eps=1e-05, momentum=0.1, affine=True, track_running_stats=True)\n",
            "            (conv2): Conv2d(512, 512, kernel_size=(3, 3), stride=(1, 1), padding=(1, 1), bias=False)\n",
            "            (bn2): BatchNorm2d(512, eps=1e-05, momentum=0.1, affine=True, track_running_stats=True)\n",
            "            (conv3): Conv2d(512, 2048, kernel_size=(1, 1), stride=(1, 1), bias=False)\n",
            "            (bn3): BatchNorm2d(2048, eps=1e-05, momentum=0.1, affine=True, track_running_stats=True)\n",
            "            (relu): ReLU(inplace=True)\n",
            "          )\n",
            "          (2): Bottleneck(\n",
            "            (conv1): Conv2d(2048, 512, kernel_size=(1, 1), stride=(1, 1), bias=False)\n",
            "            (bn1): BatchNorm2d(512, eps=1e-05, momentum=0.1, affine=True, track_running_stats=True)\n",
            "            (conv2): Conv2d(512, 512, kernel_size=(3, 3), stride=(1, 1), padding=(1, 1), bias=False)\n",
            "            (bn2): BatchNorm2d(512, eps=1e-05, momentum=0.1, affine=True, track_running_stats=True)\n",
            "            (conv3): Conv2d(512, 2048, kernel_size=(1, 1), stride=(1, 1), bias=False)\n",
            "            (bn3): BatchNorm2d(2048, eps=1e-05, momentum=0.1, affine=True, track_running_stats=True)\n",
            "            (relu): ReLU(inplace=True)\n",
            "          )\n",
            "        )\n",
            "      )\n",
            "      (fpn): FeaturePyramidNetwork(\n",
            "        (in_branches): ModuleList(\n",
            "          (0): Sequential(\n",
            "            (0): Conv2d(256, 256, kernel_size=(1, 1), stride=(1, 1), bias=False)\n",
            "            (1): BatchNorm2d(256, eps=1e-05, momentum=0.1, affine=True, track_running_stats=True)\n",
            "            (2): ReLU(inplace=True)\n",
            "          )\n",
            "          (1): Sequential(\n",
            "            (0): Conv2d(512, 256, kernel_size=(1, 1), stride=(1, 1), bias=False)\n",
            "            (1): BatchNorm2d(256, eps=1e-05, momentum=0.1, affine=True, track_running_stats=True)\n",
            "            (2): ReLU(inplace=True)\n",
            "          )\n",
            "          (2): Sequential(\n",
            "            (0): Conv2d(1024, 256, kernel_size=(1, 1), stride=(1, 1), bias=False)\n",
            "            (1): BatchNorm2d(256, eps=1e-05, momentum=0.1, affine=True, track_running_stats=True)\n",
            "            (2): ReLU(inplace=True)\n",
            "          )\n",
            "          (3): Sequential(\n",
            "            (0): Conv2d(2048, 256, kernel_size=(1, 1), stride=(1, 1), bias=False)\n",
            "            (1): BatchNorm2d(256, eps=1e-05, momentum=0.1, affine=True, track_running_stats=True)\n",
            "            (2): ReLU(inplace=True)\n",
            "          )\n",
            "        )\n",
            "        (upsample): Upsample(scale_factor=2.0, mode=bilinear)\n",
            "        (out_branches): ModuleList(\n",
            "          (0): Sequential(\n",
            "            (0): Conv2d(256, 64, kernel_size=(3, 3), stride=(1, 1), padding=(1, 1), bias=False)\n",
            "            (1): BatchNorm2d(64, eps=1e-05, momentum=0.1, affine=True, track_running_stats=True)\n",
            "            (2): ReLU(inplace=True)\n",
            "            (3): Upsample(scale_factor=1.0, mode=bilinear)\n",
            "          )\n",
            "          (1): Sequential(\n",
            "            (0): Conv2d(256, 64, kernel_size=(3, 3), stride=(1, 1), padding=(1, 1), bias=False)\n",
            "            (1): BatchNorm2d(64, eps=1e-05, momentum=0.1, affine=True, track_running_stats=True)\n",
            "            (2): ReLU(inplace=True)\n",
            "            (3): Upsample(scale_factor=2.0, mode=bilinear)\n",
            "          )\n",
            "          (2): Sequential(\n",
            "            (0): Conv2d(256, 64, kernel_size=(3, 3), stride=(1, 1), padding=(1, 1), bias=False)\n",
            "            (1): BatchNorm2d(64, eps=1e-05, momentum=0.1, affine=True, track_running_stats=True)\n",
            "            (2): ReLU(inplace=True)\n",
            "            (3): Upsample(scale_factor=4.0, mode=bilinear)\n",
            "          )\n",
            "          (3): Sequential(\n",
            "            (0): Conv2d(256, 64, kernel_size=(3, 3), stride=(1, 1), padding=(1, 1), bias=False)\n",
            "            (1): BatchNorm2d(64, eps=1e-05, momentum=0.1, affine=True, track_running_stats=True)\n",
            "            (2): ReLU(inplace=True)\n",
            "            (3): Upsample(scale_factor=8.0, mode=bilinear)\n",
            "          )\n",
            "        )\n",
            "      )\n",
            "      (prob_head): Sequential(\n",
            "        (0): Conv2d(256, 64, kernel_size=(3, 3), stride=(1, 1), padding=(1, 1), bias=False)\n",
            "        (1): BatchNorm2d(64, eps=1e-05, momentum=0.1, affine=True, track_running_stats=True)\n",
            "        (2): ReLU(inplace=True)\n",
            "        (3): ConvTranspose2d(64, 64, kernel_size=(2, 2), stride=(2, 2), bias=False)\n",
            "        (4): BatchNorm2d(64, eps=1e-05, momentum=0.1, affine=True, track_running_stats=True)\n",
            "        (5): ReLU(inplace=True)\n",
            "        (6): ConvTranspose2d(64, 1, kernel_size=(2, 2), stride=(2, 2))\n",
            "      )\n",
            "      (thresh_head): Sequential(\n",
            "        (0): Conv2d(256, 64, kernel_size=(3, 3), stride=(1, 1), padding=(1, 1), bias=False)\n",
            "        (1): BatchNorm2d(64, eps=1e-05, momentum=0.1, affine=True, track_running_stats=True)\n",
            "        (2): ReLU(inplace=True)\n",
            "        (3): ConvTranspose2d(64, 64, kernel_size=(2, 2), stride=(2, 2), bias=False)\n",
            "        (4): BatchNorm2d(64, eps=1e-05, momentum=0.1, affine=True, track_running_stats=True)\n",
            "        (5): ReLU(inplace=True)\n",
            "        (6): ConvTranspose2d(64, 1, kernel_size=(2, 2), stride=(2, 2))\n",
            "      )\n",
            "    )\n",
            "  )\n",
            "  (reco_predictor): RecognitionPredictor(\n",
            "    (pre_processor): PreProcessor(\n",
            "      (resize): Resize(output_size=(32, 128), interpolation='bilinear', preserve_aspect_ratio=True, symmetric_pad=False)\n",
            "      (normalize): Normalize(mean=(0.694, 0.695, 0.693), std=(0.299, 0.296, 0.301))\n",
            "    )\n",
            "    (model): CRNN(\n",
            "      (feat_extractor): Sequential(\n",
            "        (0): Conv2d(3, 64, kernel_size=(3, 3), stride=(1, 1), padding=(1, 1))\n",
            "        (1): BatchNorm2d(64, eps=1e-05, momentum=0.1, affine=True, track_running_stats=True)\n",
            "        (2): ReLU(inplace=True)\n",
            "        (3): Conv2d(64, 64, kernel_size=(3, 3), stride=(1, 1), padding=(1, 1))\n",
            "        (4): BatchNorm2d(64, eps=1e-05, momentum=0.1, affine=True, track_running_stats=True)\n",
            "        (5): ReLU(inplace=True)\n",
            "        (6): MaxPool2d(kernel_size=2, stride=2, padding=0, dilation=1, ceil_mode=False)\n",
            "        (7): Conv2d(64, 128, kernel_size=(3, 3), stride=(1, 1), padding=(1, 1))\n",
            "        (8): BatchNorm2d(128, eps=1e-05, momentum=0.1, affine=True, track_running_stats=True)\n",
            "        (9): ReLU(inplace=True)\n",
            "        (10): Conv2d(128, 128, kernel_size=(3, 3), stride=(1, 1), padding=(1, 1))\n",
            "        (11): BatchNorm2d(128, eps=1e-05, momentum=0.1, affine=True, track_running_stats=True)\n",
            "        (12): ReLU(inplace=True)\n",
            "        (13): MaxPool2d(kernel_size=2, stride=2, padding=0, dilation=1, ceil_mode=False)\n",
            "        (14): Conv2d(128, 256, kernel_size=(3, 3), stride=(1, 1), padding=(1, 1))\n",
            "        (15): BatchNorm2d(256, eps=1e-05, momentum=0.1, affine=True, track_running_stats=True)\n",
            "        (16): ReLU(inplace=True)\n",
            "        (17): Conv2d(256, 256, kernel_size=(3, 3), stride=(1, 1), padding=(1, 1))\n",
            "        (18): BatchNorm2d(256, eps=1e-05, momentum=0.1, affine=True, track_running_stats=True)\n",
            "        (19): ReLU(inplace=True)\n",
            "        (20): Conv2d(256, 256, kernel_size=(3, 3), stride=(1, 1), padding=(1, 1))\n",
            "        (21): BatchNorm2d(256, eps=1e-05, momentum=0.1, affine=True, track_running_stats=True)\n",
            "        (22): ReLU(inplace=True)\n",
            "        (23): MaxPool2d(kernel_size=(2, 1), stride=(2, 1), padding=0, dilation=1, ceil_mode=False)\n",
            "        (24): Conv2d(256, 512, kernel_size=(3, 3), stride=(1, 1), padding=(1, 1))\n",
            "        (25): BatchNorm2d(512, eps=1e-05, momentum=0.1, affine=True, track_running_stats=True)\n",
            "        (26): ReLU(inplace=True)\n",
            "        (27): Conv2d(512, 512, kernel_size=(3, 3), stride=(1, 1), padding=(1, 1))\n",
            "        (28): BatchNorm2d(512, eps=1e-05, momentum=0.1, affine=True, track_running_stats=True)\n",
            "        (29): ReLU(inplace=True)\n",
            "        (30): Conv2d(512, 512, kernel_size=(3, 3), stride=(1, 1), padding=(1, 1))\n",
            "        (31): BatchNorm2d(512, eps=1e-05, momentum=0.1, affine=True, track_running_stats=True)\n",
            "        (32): ReLU(inplace=True)\n",
            "        (33): MaxPool2d(kernel_size=(2, 1), stride=(2, 1), padding=0, dilation=1, ceil_mode=False)\n",
            "        (34): Conv2d(512, 512, kernel_size=(3, 3), stride=(1, 1), padding=(1, 1))\n",
            "        (35): BatchNorm2d(512, eps=1e-05, momentum=0.1, affine=True, track_running_stats=True)\n",
            "        (36): ReLU(inplace=True)\n",
            "        (37): Conv2d(512, 512, kernel_size=(3, 3), stride=(1, 1), padding=(1, 1))\n",
            "        (38): BatchNorm2d(512, eps=1e-05, momentum=0.1, affine=True, track_running_stats=True)\n",
            "        (39): ReLU(inplace=True)\n",
            "        (40): Conv2d(512, 512, kernel_size=(3, 3), stride=(1, 1), padding=(1, 1))\n",
            "        (41): BatchNorm2d(512, eps=1e-05, momentum=0.1, affine=True, track_running_stats=True)\n",
            "        (42): ReLU(inplace=True)\n",
            "        (43): MaxPool2d(kernel_size=(2, 1), stride=(2, 1), padding=0, dilation=1, ceil_mode=False)\n",
            "      )\n",
            "      (decoder): LSTM(512, 128, num_layers=2, batch_first=True, bidirectional=True)\n",
            "      (linear): Linear(in_features=256, out_features=124, bias=True)\n",
            "      (postprocessor): CTCPostProcessor(vocab_size=123)\n",
            "    )\n",
            "  )\n",
            ")\n"
          ]
        }
      ]
    },
    {
      "cell_type": "markdown",
      "metadata": {
        "id": "dlrtkNzTURAo"
      },
      "source": [
        "Here we are inspecting the most complex (and high-level) object of docTR API: an OCR predictor. Since docTR achieves Optical Character Recognition by first localizing textual elements (Text Detection), then extracting the corresponding text from each location (Text Recognition), the OCR Predictor wraps two sub-predictors: one for text detection, and the other for text recognition."
      ]
    },
    {
      "cell_type": "markdown",
      "metadata": {
        "id": "uyVfbzhUL-Rw"
      },
      "source": [
        "## Basic inference\n",
        "\n",
        "It looks quite complex, isn't it?\n",
        "Well that will not prevent you from easily get nice results. See for yourself:"
      ]
    },
    {
      "cell_type": "code",
      "metadata": {
        "id": "RLPsdCj3PWzI"
      },
      "source": [
        "result = predictor(doc)"
      ],
      "execution_count": null,
      "outputs": []
    },
    {
      "cell_type": "markdown",
      "metadata": {
        "id": "eFAwQaKuPYXG"
      },
      "source": [
        "## Prediction visualization\n",
        "\n",
        "If you rightfully prefer to see the results with your eyes, docTR includes a few visualization features. We will first overlay our predictions on the original document:"
      ]
    },
    {
      "cell_type": "code",
      "metadata": {
        "id": "sOcqPNnPMAE7",
        "colab": {
          "base_uri": "https://localhost:8080/",
          "height": 751
        },
        "outputId": "612671c6-726a-491f-c480-28ca2f97f84f"
      },
      "source": [
        "result.show(doc)"
      ],
      "execution_count": null,
      "outputs": [
        {
          "output_type": "display_data",
          "data": {
            "image/png": "[encoded data removed]",
            "text/plain": [
              "<Figure size 556.364x720 with 1 Axes>"
            ]
          },
          "metadata": {
            "needs_background": "light"
          }
        }
      ]
    },
    {
      "cell_type": "markdown",
      "metadata": {
        "id": "EnJERph1VXgN"
      },
      "source": [
        "Looks accurate!\n",
        "But we can go further: if the extracted information is correctly structured, we should be able to recreate the page entirely. So let's do this 🎨"
      ]
    },
    {
      "cell_type": "code",
      "metadata": {
        "id": "QdoSNYzROeRv",
        "colab": {
          "base_uri": "https://localhost:8080/",
          "height": 248
        },
        "outputId": "9d7fcf6c-0535-4809-beb1-5ad4707d817c"
      },
      "source": [
        "synthetic_pages = result.synthesize()\n",
        "plt.imshow(synthetic_pages[0]); plt.axis('off'); plt.show()"
      ],
      "execution_count": null,
      "outputs": [
        {
          "output_type": "display_data",
          "data": {
            "image/png": "[encoded data removed]",
            "text/plain": [
              "<Figure size 432x288 with 1 Axes>"
            ]
          },
          "metadata": {
            "needs_background": "light"
          }
        }
      ]
    },
    {
      "cell_type": "markdown",
      "metadata": {
        "id": "mEabainyPeV8"
      },
      "source": [
        "## Exporting results\n",
        "\n",
        "OK, so the predictions are relevant, but how would you integrate this into your own document processing pipeline? Perhaps you're not using Python at all?\n",
        "\n",
        "Well, if you happen to be using JSON or XML exports, they are already supported 🤗"
      ]
    },
    {
      "cell_type": "code",
      "metadata": {
        "id": "mhIolyjQOqLp",
        "colab": {
          "base_uri": "https://localhost:8080/"
        },
        "outputId": "99c6c878-90e8-4e2c-a025-d2410e4baf9c"
      },
      "source": [
        "# JSON export\n",
        "json_export = result.export()\n",
        "print(json_export)"
      ],
      "execution_count": null,
      "outputs": [
        {
          "output_type": "stream",
          "name": "stdout",
          "text": [
            "{'pages': [{'page_idx': 0, 'dimensions': (1584, 1224), 'orientation': {'value': None, 'confidence': None}, 'language': {'value': None, 'confidence': None}, 'blocks': [{'geometry': ((0.314453125, 0.0634765625), (0.6875, 0.083984375)), 'lines': [{'geometry': ((0.314453125, 0.0634765625), (0.6875, 0.083984375)), 'words': [{'value': 'CASH', 'confidence': 0.9990693926811218, 'geometry': ((0.314453125, 0.064453125), (0.3984375, 0.0830078125))}, {'value': 'PAYMENT', 'confidence': 0.9999754428863525, 'geometry': ((0.40625, 0.0634765625), (0.5517578125, 0.083984375))}, {'value': 'RECEIPT', 'confidence': 0.9987125396728516, 'geometry': ((0.5595703125, 0.0634765625), (0.6875, 0.083984375))}]}], 'artefacts': []}, {'geometry': ((0.1162109375, 0.11328125), (0.2783203125, 0.3037109375)), 'lines': [{'geometry': ((0.1181640625, 0.11328125), (0.2783203125, 0.1328125)), 'words': [{'value': 'Company', 'confidence': 0.9992720484733582, 'geometry': ((0.1181640625, 0.1142578125), (0.2099609375, 0.1328125))}, {'value': 'Name:', 'confidence': 0.9572088718414307, 'geometry': ((0.2138671875, 0.11328125), (0.2783203125, 0.130859375))}]}, {'geometry': ((0.1162109375, 0.1318359375), (0.265625, 0.1494140625)), 'words': [{'value': 'Street', 'confidence': 0.9999924898147583, 'geometry': ((0.1162109375, 0.1318359375), (0.1767578125, 0.1494140625))}, {'value': 'Address:', 'confidence': 0.999671220779419, 'geometry': ((0.1787109375, 0.1318359375), (0.265625, 0.1494140625))}]}, {'geometry': ((0.1162109375, 0.150390625), (0.265625, 0.1728515625)), 'words': [{'value': 'City,', 'confidence': 0.7493035793304443, 'geometry': ((0.1162109375, 0.1513671875), (0.162109375, 0.1708984375))}, {'value': 'State,', 'confidence': 0.9998090863227844, 'geometry': ((0.1650390625, 0.1513671875), (0.22265625, 0.169921875))}, {'value': 'Zip:', 'confidence': 0.999970555305481, 'geometry': ((0.2236328125, 0.150390625), (0.265625, 0.1728515625))}]}, {'geometry': ((0.1171875, 0.169921875), (0.1865234375, 0.1875)), 'words': [{'value': 'Phone:', 'confidence': 0.9999185800552368, 'geometry': ((0.1171875, 0.169921875), (0.1865234375, 0.1875))}]}, {'geometry': ((0.1162109375, 0.1884765625), (0.162109375, 0.20703125)), 'words': [{'value': 'Fax:', 'confidence': 0.9996023774147034, 'geometry': ((0.1162109375, 0.1884765625), (0.162109375, 0.20703125))}]}, {'geometry': ((0.1162109375, 0.20703125), (0.177734375, 0.224609375)), 'words': [{'value': 'Email:', 'confidence': 0.9981847405433655, 'geometry': ((0.1162109375, 0.20703125), (0.177734375, 0.224609375))}]}, {'geometry': ((0.1171875, 0.2275390625), (0.201171875, 0.2421875)), 'words': [{'value': 'Website:', 'confidence': 0.9636074900627136, 'geometry': ((0.1171875, 0.2275390625), (0.201171875, 0.2421875))}]}, {'geometry': ((0.1162109375, 0.2861328125), (0.1708984375, 0.3037109375)), 'words': [{'value': 'Date:', 'confidence': 0.9999319314956665, 'geometry': ((0.1162109375, 0.2861328125), (0.1708984375, 0.3037109375))}]}], 'artefacts': []}, {'geometry': ((0.6357421875, 0.2861328125), (0.7333984375, 0.3056640625)), 'lines': [{'geometry': ((0.6357421875, 0.2861328125), (0.7333984375, 0.3056640625)), 'words': [{'value': 'Receipt', 'confidence': 0.9999529123306274, 'geometry': ((0.6357421875, 0.287109375), (0.708984375, 0.3056640625))}, {'value': '#:', 'confidence': 0.8617385625839233, 'geometry': ((0.7109375, 0.2861328125), (0.7333984375, 0.3046875))}]}], 'artefacts': []}, {'geometry': ((0.37109375, 0.3701171875), (0.6298828125, 0.3916015625)), 'lines': [{'geometry': ((0.37109375, 0.3701171875), (0.6298828125, 0.3916015625)), 'words': [{'value': 'Payment', 'confidence': 0.9980747699737549, 'geometry': ((0.37109375, 0.3701171875), (0.48046875, 0.3916015625))}, {'value': 'Information', 'confidence': 0.9716160893440247, 'geometry': ((0.4873046875, 0.3701171875), (0.6298828125, 0.3876953125))}]}], 'artefacts': []}, {'geometry': ((0.1162109375, 0.4140625), (0.275390625, 0.517578125)), 'lines': [{'geometry': ((0.1162109375, 0.4140625), (0.2001953125, 0.4375)), 'words': [{'value': 'Paid', 'confidence': 0.9929977655410767, 'geometry': ((0.1162109375, 0.4150390625), (0.1630859375, 0.43359375))}, {'value': 'By:', 'confidence': 0.9961645603179932, 'geometry': ((0.1630859375, 0.4140625), (0.2001953125, 0.4375))}]}, {'geometry': ((0.1171875, 0.4560546875), (0.2470703125, 0.474609375)), 'words': [{'value': 'Amount', 'confidence': 0.9993399977684021, 'geometry': ((0.1171875, 0.4580078125), (0.1923828125, 0.47265625))}, {'value': 'Paid:', 'confidence': 0.994378387928009, 'geometry': ((0.1953125, 0.4560546875), (0.2470703125, 0.474609375))}]}, {'geometry': ((0.1162109375, 0.4970703125), (0.275390625, 0.517578125)), 'words': [{'value': 'For', 'confidence': 0.9495216608047485, 'geometry': ((0.1162109375, 0.4970703125), (0.1533203125, 0.515625))}, {'value': 'Payment', 'confidence': 0.9995786547660828, 'geometry': ((0.15625, 0.4990234375), (0.2412109375, 0.517578125))}, {'value': 'Of:', 'confidence': 0.9991095662117004, 'geometry': ((0.244140625, 0.498046875), (0.275390625, 0.5146484375))}]}], 'artefacts': []}, {'geometry': ((0.576171875, 0.455078125), (0.671875, 0.4775390625)), 'lines': [{'geometry': ((0.576171875, 0.455078125), (0.671875, 0.4775390625)), 'words': [{'value': 'Dollars', 'confidence': 0.9854636788368225, 'geometry': ((0.576171875, 0.4580078125), (0.6435546875, 0.47265625))}, {'value': '($', 'confidence': 0.9968711733818054, 'geometry': ((0.646484375, 0.455078125), (0.671875, 0.4775390625))}]}], 'artefacts': []}, {'geometry': ((0.6015625, 0.5693359375), (0.74609375, 0.6533203125)), 'lines': [{'geometry': ((0.638671875, 0.5693359375), (0.74609375, 0.58984375)), 'words': [{'value': 'Subtotal:', 'confidence': 0.9963411688804626, 'geometry': ((0.638671875, 0.5703125), (0.724609375, 0.587890625))}, {'value': '$', 'confidence': 0.9993730187416077, 'geometry': ((0.7265625, 0.5693359375), (0.74609375, 0.58984375))}]}, {'geometry': ((0.6015625, 0.6015625), (0.7373046875, 0.6220703125)), 'words': [{'value': 'Tax', 'confidence': 0.9999874830245972, 'geometry': ((0.6015625, 0.6015625), (0.642578125, 0.6201171875))}, {'value': 'Rate', 'confidence': 0.9995567202568054, 'geometry': ((0.64453125, 0.6025390625), (0.69140625, 0.6181640625))}, {'value': '(%):', 'confidence': 0.9995135068893433, 'geometry': ((0.6953125, 0.6025390625), (0.7373046875, 0.6220703125))}]}, {'geometry': ((0.626953125, 0.6328125), (0.74609375, 0.6533203125)), 'words': [{'value': 'Total', 'confidence': 0.9985380172729492, 'geometry': ((0.626953125, 0.6328125), (0.677734375, 0.6513671875))}, {'value': 'Tax:', 'confidence': 0.9991111159324646, 'geometry': ((0.6796875, 0.6328125), (0.724609375, 0.6513671875))}, {'value': '$', 'confidence': 0.9986920952796936, 'geometry': ((0.7265625, 0.6328125), (0.74609375, 0.6533203125))}]}], 'artefacts': []}, {'geometry': ((0.5341796875, 0.6640625), (0.74609375, 0.748046875)), 'lines': [{'geometry': ((0.5439453125, 0.6640625), (0.7451171875, 0.6845703125)), 'words': [{'value': 'Total', 'confidence': 0.5600869655609131, 'geometry': ((0.5439453125, 0.6640625), (0.595703125, 0.6826171875))}, {'value': 'Amount', 'confidence': 0.9957303404808044, 'geometry': ((0.59765625, 0.666015625), (0.673828125, 0.6806640625))}, {'value': 'Due:', 'confidence': 0.999991774559021, 'geometry': ((0.677734375, 0.666015625), (0.724609375, 0.681640625))}, {'value': '$', 'confidence': 0.9983554482460022, 'geometry': ((0.7265625, 0.6640625), (0.7451171875, 0.6845703125))}]}, {'geometry': ((0.5947265625, 0.6953125), (0.74609375, 0.716796875)), 'words': [{'value': 'Amount', 'confidence': 0.9002764821052551, 'geometry': ((0.5947265625, 0.697265625), (0.669921875, 0.7119140625))}, {'value': 'Paid:', 'confidence': 0.9726784825325012, 'geometry': ((0.6748046875, 0.697265625), (0.7236328125, 0.712890625))}, {'value': '$', 'confidence': 0.9938628673553467, 'geometry': ((0.7265625, 0.6953125), (0.74609375, 0.716796875))}]}, {'geometry': ((0.5341796875, 0.7265625), (0.7451171875, 0.748046875)), 'words': [{'value': 'Remaining', 'confidence': 0.8993052840232849, 'geometry': ((0.5341796875, 0.7294921875), (0.634765625, 0.7470703125))}, {'value': 'Balance:', 'confidence': 0.9973211884498596, 'geometry': ((0.6396484375, 0.7294921875), (0.7236328125, 0.744140625))}, {'value': '$', 'confidence': 0.9964888095855713, 'geometry': ((0.7265625, 0.7265625), (0.7451171875, 0.748046875))}]}], 'artefacts': []}, {'geometry': ((0.1181640625, 0.798828125), (0.24609375, 0.822265625)), 'lines': [{'geometry': ((0.1181640625, 0.798828125), (0.24609375, 0.822265625)), 'words': [{'value': 'Received', 'confidence': 0.9991452693939209, 'geometry': ((0.1181640625, 0.8017578125), (0.2080078125, 0.81640625))}, {'value': 'By:', 'confidence': 0.9999109506607056, 'geometry': ((0.2099609375, 0.798828125), (0.24609375, 0.822265625))}]}], 'artefacts': []}, {'geometry': ((0.1181640625, 0.8427734375), (0.3330078125, 0.8603515625)), 'lines': [{'geometry': ((0.1181640625, 0.8427734375), (0.3330078125, 0.8603515625)), 'words': [{'value': 'Authorized', 'confidence': 0.9940978288650513, 'geometry': ((0.1181640625, 0.8427734375), (0.228515625, 0.857421875))}, {'value': 'Signature', 'confidence': 0.8821311593055725, 'geometry': ((0.234375, 0.8427734375), (0.3330078125, 0.8603515625))}]}], 'artefacts': []}, {'geometry': ((0.8271484375, 0.94140625), (0.9013671875, 0.9599609375)), 'lines': [{'geometry': ((0.8271484375, 0.94140625), (0.9013671875, 0.9599609375)), 'words': [{'value': 'Page', 'confidence': 0.9999324083328247, 'geometry': ((0.8271484375, 0.94140625), (0.8701171875, 0.9599609375))}, {'value': '1', 'confidence': 0.999995231628418, 'geometry': ((0.8701171875, 0.94140625), (0.8828125, 0.95703125))}, {'value': 'of', 'confidence': 0.9999593496322632, 'geometry': ((0.8828125, 0.9423828125), (0.9013671875, 0.9560546875))}]}], 'artefacts': []}]}]}\n"
          ]
        }
      ]
    },
    {
      "cell_type": "code",
      "metadata": {
        "id": "3RsuKIlYPnNf",
        "colab": {
          "base_uri": "https://localhost:8080/"
        },
        "outputId": "f51e1748-edfe-4987-d987-082a2ede2004"
      },
      "source": [
        "# XML export\n",
        "xml_output = result.export_as_xml()\n",
        "print(xml_output[0][0])"
      ],
      "execution_count": null,
      "outputs": [
        {
          "output_type": "stream",
          "name": "stdout",
          "text": [
            "b'<html xml:lang=\"en\" xmlns=\"http://www.w3.org/1999/xhtml\"><head><title>docTR - XML export (hOCR)</title><meta content=\"text/html; charset=utf-8\" http-equiv=\"Content-Type\" /><meta content=\"python-doctr 0.4.1a0\" name=\"ocr-system\" /><meta content=\"ocr_page ocr_carea ocr_par ocr_line ocrx_word\" name=\"ocr-capabilities\" /></head><body><div class=\"ocr_page\" id=\"page_1\" title=\"image; bbox 0 0 1224 1584; ppageno 0\" /><div class=\"ocr_carea\" id=\"block_1\" title=\"bbox 385 101                     842 133\"><p class=\"ocr_par\" id=\"par_1\" title=\"bbox 385 101                     842 133\"><span class=\"ocr_line\" id=\"line_1\" title=\"bbox 385 101                         842 133;                         baseline 0 0; x_size 0; x_descenders 0; x_ascenders 0\"><span class=\"ocrx_word\" id=\"word_1\" title=\"bbox 385 102                             488 131;                             x_wconf 100\">CASH</span><span class=\"ocrx_word\" id=\"word_2\" title=\"bbox 497 101                             675 133;                             x_wconf 100\">PAYMENT</span><span class=\"ocrx_word\" id=\"word_3\" title=\"bbox 685 101                             842 133;                             x_wconf 100\">RECEIPT</span></span></p></div><div class=\"ocr_carea\" id=\"block_2\" title=\"bbox 142 179                     341 481\"><p class=\"ocr_par\" id=\"par_2\" title=\"bbox 142 179                     341 481\"><span class=\"ocr_line\" id=\"line_2\" title=\"bbox 145 179                         341 210;                         baseline 0 0; x_size 0; x_descenders 0; x_ascenders 0\"><span class=\"ocrx_word\" id=\"word_4\" title=\"bbox 145 181                             257 210;                             x_wconf 100\">Company</span><span class=\"ocrx_word\" id=\"word_5\" title=\"bbox 262 179                             341 207;                             x_wconf 96\">Name:</span></span><span class=\"ocr_line\" id=\"line_3\" title=\"bbox 142 209                         325 237;                         baseline 0 0; x_size 0; x_descenders 0; x_ascenders 0\"><span class=\"ocrx_word\" id=\"word_6\" title=\"bbox 142 209                             216 237;                             x_wconf 100\">Street</span><span class=\"ocrx_word\" id=\"word_7\" title=\"bbox 219 209                             325 237;                             x_wconf 100\">Address:</span></span><span class=\"ocr_line\" id=\"line_4\" title=\"bbox 142 238                         325 274;                         baseline 0 0; x_size 0; x_descenders 0; x_ascenders 0\"><span class=\"ocrx_word\" id=\"word_8\" title=\"bbox 142 240                             198 271;                             x_wconf 75\">City,</span><span class=\"ocrx_word\" id=\"word_9\" title=\"bbox 202 240                             273 269;                             x_wconf 100\">State,</span><span class=\"ocrx_word\" id=\"word_10\" title=\"bbox 274 238                             325 274;                             x_wconf 100\">Zip:</span></span><span class=\"ocr_line\" id=\"line_5\" title=\"bbox 143 269                         228 297;                         baseline 0 0; x_size 0; x_descenders 0; x_ascenders 0\"><span class=\"ocrx_word\" id=\"word_11\" title=\"bbox 143 269                             228 297;                             x_wconf 100\">Phone:</span></span><span class=\"ocr_line\" id=\"line_6\" title=\"bbox 142 299                         198 328;                         baseline 0 0; x_size 0; x_descenders 0; x_ascenders 0\"><span class=\"ocrx_word\" id=\"word_12\" title=\"bbox 142 299                             198 328;                             x_wconf 100\">Fax:</span></span><span class=\"ocr_line\" id=\"line_7\" title=\"bbox 142 328                         218 356;                         baseline 0 0; x_size 0; x_descenders 0; x_ascenders 0\"><span class=\"ocrx_word\" id=\"word_13\" title=\"bbox 142 328                             218 356;                             x_wconf 100\">Email:</span></span><span class=\"ocr_line\" id=\"line_8\" title=\"bbox 143 360                         246 384;                         baseline 0 0; x_size 0; x_descenders 0; x_ascenders 0\"><span class=\"ocrx_word\" id=\"word_14\" title=\"bbox 143 360                             246 384;                             x_wconf 96\">Website:</span></span><span class=\"ocr_line\" id=\"line_9\" title=\"bbox 142 453                         209 481;                         baseline 0 0; x_size 0; x_descenders 0; x_ascenders 0\"><span class=\"ocrx_word\" id=\"word_15\" title=\"bbox 142 453                             209 481;                             x_wconf 100\">Date:</span></span></p></div><div class=\"ocr_carea\" id=\"block_3\" title=\"bbox 778 453                     898 484\"><p class=\"ocr_par\" id=\"par_3\" title=\"bbox 778 453                     898 484\"><span class=\"ocr_line\" id=\"line_10\" title=\"bbox 778 453                         898 484;                         baseline 0 0; x_size 0; x_descenders 0; x_ascenders 0\"><span class=\"ocrx_word\" id=\"word_16\" title=\"bbox 778 455                             868 484;                             x_wconf 100\">Receipt</span><span class=\"ocrx_word\" id=\"word_17\" title=\"bbox 870 453                             898 483;                             x_wconf 86\">#:</span></span></p></div><div class=\"ocr_carea\" id=\"block_4\" title=\"bbox 454 586                     771 620\"><p class=\"ocr_par\" id=\"par_4\" title=\"bbox 454 586                     771 620\"><span class=\"ocr_line\" id=\"line_11\" title=\"bbox 454 586                         771 620;                         baseline 0 0; x_size 0; x_descenders 0; x_ascenders 0\"><span class=\"ocrx_word\" id=\"word_18\" title=\"bbox 454 586                             588 620;                             x_wconf 100\">Payment</span><span class=\"ocrx_word\" id=\"word_19\" title=\"bbox 596 586                             771 614;                             x_wconf 97\">Information</span></span></p></div><div class=\"ocr_carea\" id=\"block_5\" title=\"bbox 142 656                     337 820\"><p class=\"ocr_par\" id=\"par_5\" title=\"bbox 142 656                     337 820\"><span class=\"ocr_line\" id=\"line_12\" title=\"bbox 142 656                         245 693;                         baseline 0 0; x_size 0; x_descenders 0; x_ascenders 0\"><span class=\"ocrx_word\" id=\"word_20\" title=\"bbox 142 657                             200 687;                             x_wconf 99\">Paid</span><span class=\"ocrx_word\" id=\"word_21\" title=\"bbox 200 656                             245 693;                             x_wconf 100\">By:</span></span><span class=\"ocr_line\" id=\"line_13\" title=\"bbox 143 722                         302 752;                         baseline 0 0; x_size 0; x_descenders 0; x_ascenders 0\"><span class=\"ocrx_word\" id=\"word_22\" title=\"bbox 143 725                             235 749;                             x_wconf 100\">Amount</span><span class=\"ocrx_word\" id=\"word_23\" title=\"bbox 239 722                             302 752;                             x_wconf 99\">Paid:</span></span><span class=\"ocr_line\" id=\"line_14\" title=\"bbox 142 787                         337 820;                         baseline 0 0; x_size 0; x_descenders 0; x_ascenders 0\"><span class=\"ocrx_word\" id=\"word_24\" title=\"bbox 142 787                             188 817;                             x_wconf 95\">For</span><span class=\"ocrx_word\" id=\"word_25\" title=\"bbox 191 790                             295 820;                             x_wconf 100\">Payment</span><span class=\"ocrx_word\" id=\"word_26\" title=\"bbox 299 789                             337 815;                             x_wconf 100\">Of:</span></span></p></div><div class=\"ocr_carea\" id=\"block_6\" title=\"bbox 705 721                     822 756\"><p class=\"ocr_par\" id=\"par_6\" title=\"bbox 705 721                     822 756\"><span class=\"ocr_line\" id=\"line_15\" title=\"bbox 705 721                         822 756;                         baseline 0 0; x_size 0; x_descenders 0; x_ascenders 0\"><span class=\"ocrx_word\" id=\"word_27\" title=\"bbox 705 725                             788 749;                             x_wconf 99\">Dollars</span><span class=\"ocrx_word\" id=\"word_28\" title=\"bbox 791 721                             822 756;                             x_wconf 100\">($</span></span></p></div><div class=\"ocr_carea\" id=\"block_7\" title=\"bbox 736 902                     913 1035\"><p class=\"ocr_par\" id=\"par_7\" title=\"bbox 736 902                     913 1035\"><span class=\"ocr_line\" id=\"line_16\" title=\"bbox 782 902                         913 934;                         baseline 0 0; x_size 0; x_descenders 0; x_ascenders 0\"><span class=\"ocrx_word\" id=\"word_29\" title=\"bbox 782 903                             887 931;                             x_wconf 100\">Subtotal:</span><span class=\"ocrx_word\" id=\"word_30\" title=\"bbox 889 902                             913 934;                             x_wconf 100\">$</span></span><span class=\"ocr_line\" id=\"line_17\" title=\"bbox 736 953                         902 985;                         baseline 0 0; x_size 0; x_descenders 0; x_ascenders 0\"><span class=\"ocrx_word\" id=\"word_31\" title=\"bbox 736 953                             787 982;                             x_wconf 100\">Tax</span><span class=\"ocrx_word\" id=\"word_32\" title=\"bbox 789 954                             846 979;                             x_wconf 100\">Rate</span><span class=\"ocrx_word\" id=\"word_33\" title=\"bbox 851 954                             902 985;                             x_wconf 100\">(%):</span></span><span class=\"ocr_line\" id=\"line_18\" title=\"bbox 767 1002                         913 1035;                         baseline 0 0; x_size 0; x_descenders 0; x_ascenders 0\"><span class=\"ocrx_word\" id=\"word_34\" title=\"bbox 767 1002                             830 1032;                             x_wconf 100\">Total</span><span class=\"ocrx_word\" id=\"word_35\" title=\"bbox 832 1002                             887 1032;                             x_wconf 100\">Tax:</span><span class=\"ocrx_word\" id=\"word_36\" title=\"bbox 889 1002                             913 1035;                             x_wconf 100\">$</span></span></p></div><div class=\"ocr_carea\" id=\"block_8\" title=\"bbox 654 1052                     913 1185\"><p class=\"ocr_par\" id=\"par_8\" title=\"bbox 654 1052                     913 1185\"><span class=\"ocr_line\" id=\"line_19\" title=\"bbox 666 1052                         912 1084;                         baseline 0 0; x_size 0; x_descenders 0; x_ascenders 0\"><span class=\"ocrx_word\" id=\"word_37\" title=\"bbox 666 1052                             729 1081;                             x_wconf 56\">Total</span><span class=\"ocrx_word\" id=\"word_38\" title=\"bbox 732 1055                             825 1078;                             x_wconf 100\">Amount</span><span class=\"ocrx_word\" id=\"word_39\" title=\"bbox 830 1055                             887 1080;                             x_wconf 100\">Due:</span><span class=\"ocrx_word\" id=\"word_40\" title=\"bbox 889 1052                             912 1084;                             x_wconf 100\">$</span></span><span class=\"ocr_line\" id=\"line_20\" title=\"bbox 728 1101                         913 1135;                         baseline 0 0; x_size 0; x_descenders 0; x_ascenders 0\"><span class=\"ocrx_word\" id=\"word_41\" title=\"bbox 728 1104                             820 1128;                             x_wconf 90\">Amount</span><span class=\"ocrx_word\" id=\"word_42\" title=\"bbox 826 1104                             886 1129;                             x_wconf 97\">Paid:</span><span class=\"ocrx_word\" id=\"word_43\" title=\"bbox 889 1101                             913 1135;                             x_wconf 99\">$</span></span><span class=\"ocr_line\" id=\"line_21\" title=\"bbox 654 1151                         912 1185;                         baseline 0 0; x_size 0; x_descenders 0; x_ascenders 0\"><span class=\"ocrx_word\" id=\"word_44\" title=\"bbox 654 1156                             777 1183;                             x_wconf 90\">Remaining</span><span class=\"ocrx_word\" id=\"word_45\" title=\"bbox 783 1156                             886 1179;                             x_wconf 100\">Balance:</span><span class=\"ocrx_word\" id=\"word_46\" title=\"bbox 889 1151                             912 1185;                             x_wconf 100\">$</span></span></p></div><div class=\"ocr_carea\" id=\"block_9\" title=\"bbox 145 1265                     301 1302\"><p class=\"ocr_par\" id=\"par_9\" title=\"bbox 145 1265                     301 1302\"><span class=\"ocr_line\" id=\"line_22\" title=\"bbox 145 1265                         301 1302;                         baseline 0 0; x_size 0; x_descenders 0; x_ascenders 0\"><span class=\"ocrx_word\" id=\"word_47\" title=\"bbox 145 1270                             255 1293;                             x_wconf 100\">Received</span><span class=\"ocrx_word\" id=\"word_48\" title=\"bbox 257 1265                             301 1302;                             x_wconf 100\">By:</span></span></p></div><div class=\"ocr_carea\" id=\"block_10\" title=\"bbox 145 1335                     408 1363\"><p class=\"ocr_par\" id=\"par_10\" title=\"bbox 145 1335                     408 1363\"><span class=\"ocr_line\" id=\"line_23\" title=\"bbox 145 1335                         408 1363;                         baseline 0 0; x_size 0; x_descenders 0; x_ascenders 0\"><span class=\"ocrx_word\" id=\"word_49\" title=\"bbox 145 1335                             280 1358;                             x_wconf 99\">Authorized</span><span class=\"ocrx_word\" id=\"word_50\" title=\"bbox 287 1335                             408 1363;                             x_wconf 88\">Signature</span></span></p></div><div class=\"ocr_carea\" id=\"block_11\" title=\"bbox 1012 1491                     1103 1521\"><p class=\"ocr_par\" id=\"par_11\" title=\"bbox 1012 1491                     1103 1521\"><span class=\"ocr_line\" id=\"line_24\" title=\"bbox 1012 1491                         1103 1521;                         baseline 0 0; x_size 0; x_descenders 0; x_ascenders 0\"><span class=\"ocrx_word\" id=\"word_51\" title=\"bbox 1012 1491                             1065 1521;                             x_wconf 100\">Page</span><span class=\"ocrx_word\" id=\"word_52\" title=\"bbox 1065 1491                             1081 1516;                             x_wconf 100\">1</span><span class=\"ocrx_word\" id=\"word_53\" title=\"bbox 1081 1493                             1103 1514;                             x_wconf 100\">of</span></span></p></div></body></html>'\n"
          ]
        }
      ]
    }
  ]
}